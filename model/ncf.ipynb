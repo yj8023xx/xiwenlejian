{
 "cells": [
  {
   "cell_type": "code",
   "execution_count": 1,
   "id": "320d1555",
   "metadata": {},
   "outputs": [],
   "source": [
    "import pandas as pd\n",
    "import numpy as np\n",
    "import json\n",
    "import torch\n",
    "from torch import nn\n",
    "from torch.utils.data.dataset import Dataset\n",
    "from collections import OrderedDict\n",
    "from sklearn.utils.class_weight import compute_class_weight"
   ]
  },
  {
   "cell_type": "code",
   "execution_count": 2,
   "id": "71376781",
   "metadata": {},
   "outputs": [],
   "source": [
    "train_data = pd.read_csv('../data/train.csv')"
   ]
  },
  {
   "cell_type": "code",
   "execution_count": 3,
   "id": "91fa8161",
   "metadata": {},
   "outputs": [
    {
     "data": {
      "text/plain": [
       "array([0, 1, 1, ..., 0, 0, 0], dtype=int64)"
      ]
     },
     "execution_count": 3,
     "metadata": {},
     "output_type": "execute_result"
    }
   ],
   "source": [
    "label = train_data['label'].values\n",
    "label"
   ]
  },
  {
   "cell_type": "code",
   "execution_count": 4,
   "id": "e575e5e4",
   "metadata": {},
   "outputs": [
    {
     "data": {
      "text/plain": [
       "array([0.7770762 , 1.40227886])"
      ]
     },
     "execution_count": 4,
     "metadata": {},
     "output_type": "execute_result"
    }
   ],
   "source": [
    "classes = [0, 1]\n",
    "class_weight = compute_class_weight(class_weight='balanced', classes=classes, y=label)\n",
    "class_weight"
   ]
  },
  {
   "cell_type": "code",
   "execution_count": 5,
   "id": "d63e059c",
   "metadata": {},
   "outputs": [
    {
     "data": {
      "text/plain": [
       "device(type='cuda')"
      ]
     },
     "execution_count": 5,
     "metadata": {},
     "output_type": "execute_result"
    }
   ],
   "source": [
    "pretrain=True\n",
    "learning_rate = 0.0001\n",
    "batch_size = 64\n",
    "num_epochs = 10\n",
    "device = torch.device('cuda' if torch.cuda.is_available() else 'cpu')\n",
    "device"
   ]
  },
  {
   "cell_type": "code",
   "execution_count": 6,
   "id": "78df94c0",
   "metadata": {},
   "outputs": [
    {
     "data": {
      "text/plain": [
       "{'dataset_id': 'bookcrossing',\n",
       " 'num_fields': 2,\n",
       " 'feature_specs': {'user_id': {'source': 'user',\n",
       "   'type': 'categorical',\n",
       "   'vocab_size': 278855,\n",
       "   'index': 0},\n",
       "  'book_id': {'source': 'item',\n",
       "   'type': 'categorical',\n",
       "   'vocab_size': 271361,\n",
       "   'index': 1}}}"
      ]
     },
     "execution_count": 6,
     "metadata": {},
     "output_type": "execute_result"
    }
   ],
   "source": [
    "with open('../data/feature_map.json') as obj:\n",
    "    feature_map = json.load(obj)\n",
    "feature_map"
   ]
  },
  {
   "cell_type": "code",
   "execution_count": 7,
   "id": "f4bcdb93",
   "metadata": {},
   "outputs": [],
   "source": [
    "# use only movieId and userId\n",
    "feature_map['feature_specs'] = {\n",
    "    'user_id': feature_map['feature_specs']['user_id'],\n",
    "    'book_id': feature_map['feature_specs']['book_id']\n",
    "}\n",
    "\n",
    "feature_map['num_fields'] = 2"
   ]
  },
  {
   "cell_type": "code",
   "execution_count": 8,
   "id": "83f42898",
   "metadata": {},
   "outputs": [],
   "source": [
    "class BookCrossingDataset(Dataset):\n",
    "    def __init__(self, url):\n",
    "        self.df = pd.read_csv(url, low_memory=False)\n",
    "\n",
    "    def __getitem__(self, idx):\n",
    "        x, y = self.df.iloc[idx, :-1].values.astype(np.float32), self.df.iloc[idx, -1].astype(np.float32)\n",
    "        return x, y\n",
    "\n",
    "    def __len__(self):\n",
    "        return self.df.shape[0]"
   ]
  },
  {
   "cell_type": "code",
   "execution_count": 9,
   "id": "9bce9cbb",
   "metadata": {},
   "outputs": [],
   "source": [
    "train_dataset = BookCrossingDataset('../data/train.csv')\n",
    "test_dataset = BookCrossingDataset('../data/test.csv')"
   ]
  },
  {
   "cell_type": "code",
   "execution_count": 10,
   "id": "9e870cc0",
   "metadata": {},
   "outputs": [],
   "source": [
    "# Data loader\n",
    "train_loader = torch.utils.data.DataLoader(dataset=train_dataset,\n",
    "                                           batch_size=batch_size,\n",
    "                                           shuffle=True)\n",
    "\n",
    "test_loader = torch.utils.data.DataLoader(dataset=test_dataset,\n",
    "                                          batch_size=batch_size,\n",
    "                                          shuffle=False)"
   ]
  },
  {
   "cell_type": "code",
   "execution_count": 11,
   "id": "abb9984b",
   "metadata": {},
   "outputs": [],
   "source": [
    "class NCF(nn.Module):\n",
    "    def __init__(self,\n",
    "                 feature_map,\n",
    "                 embedding_dim=10,\n",
    "                 hidden_units=[256, 128, 64]):\n",
    "        super(NCF, self).__init__()\n",
    "        self.feature_map = feature_map\n",
    "        # Embedding\n",
    "        self.embedding = nn.ModuleDict()\n",
    "        for feature, feature_spec in feature_map['feature_specs'].items():\n",
    "            if feature_spec['type'] == 'numerical':\n",
    "                self.embedding[feature] = nn.Linear(\n",
    "                    1, embedding_dim, bias=False)\n",
    "            elif feature_spec['type'] == 'categorical':\n",
    "                padding_idx = feature_spec.get('padding_idx', None)\n",
    "                self.embedding[feature] = nn.Embedding(feature_spec['vocab_size'],\n",
    "                                                       embedding_dim,\n",
    "                                                       padding_idx=padding_idx)\n",
    "        # DNN\n",
    "        input_dim = feature_map['num_fields'] * embedding_dim\n",
    "        hidden_units = [input_dim] + hidden_units\n",
    "        hidden_layers = []\n",
    "        for i in range(len(hidden_units) - 1):\n",
    "            hidden_layers.append(nn.Linear(hidden_units[i], hidden_units[i + 1]))\n",
    "            hidden_layers.append(nn.ReLU())\n",
    "        hidden_layers.append(nn.Linear(hidden_units[-1], 1))\n",
    "        self.dnn = nn.Sequential(*hidden_layers)\n",
    "        # Sigmoid\n",
    "        self.output_activation = nn.Sigmoid()\n",
    "\n",
    "    def forward(self, X):\n",
    "        feature_emb_list = []\n",
    "        for feature, feature_spec in self.feature_map['feature_specs'].items():\n",
    "            if feature_spec['type'] == 'numerical':\n",
    "                raw_feature = X[:, feature_spec['index']].float().view(-1, 1)\n",
    "            elif feature_spec['type'] == 'categorical':\n",
    "                raw_feature = X[:, feature_spec['index']].long()\n",
    "            embedding_vec = self.embedding[feature](raw_feature)\n",
    "            feature_emb_list.append(embedding_vec)\n",
    "        feature_emb = torch.stack(feature_emb_list, dim=1)\n",
    "        out = self.dnn(feature_emb.flatten(start_dim=1))\n",
    "        y_pred = self.output_activation(out).squeeze(1)\n",
    "        return y_pred"
   ]
  },
  {
   "cell_type": "code",
   "execution_count": 12,
   "id": "b071e56a",
   "metadata": {},
   "outputs": [],
   "source": [
    "class BCEWithWeight(nn.Module):\n",
    "    def __init__(self, weight):\n",
    "        super().__init__()\n",
    "        self.weight = weight # The weight of positive and negative samples in the binary classification\n",
    "\n",
    "    def forward(self, input, target):\n",
    "        input = torch.clamp(input, min=1e-7, max=1-1e-7)\n",
    "        bce = - self.weight[1] * target * torch.log(input) - (1 - target) * self.weight[0] * torch.log(1 - input)\n",
    "        return torch.mean(bce)"
   ]
  },
  {
   "cell_type": "code",
   "execution_count": 13,
   "id": "c0d4bef0",
   "metadata": {},
   "outputs": [],
   "source": [
    "model = NCF(feature_map).to(device)\n",
    "# Loss and optimizer\n",
    "criterion = BCEWithWeight(class_weight)\n",
    "optimizer = torch.optim.Adam(model.parameters(), lr=learning_rate)"
   ]
  },
  {
   "cell_type": "code",
   "execution_count": 14,
   "id": "14d62073",
   "metadata": {},
   "outputs": [],
   "source": [
    "if pretrain:\n",
    "    model.load_state_dict(torch.load('ncf.pt'))\n",
    "else:\n",
    "    # Train the model\n",
    "    total_step = len(train_loader)\n",
    "    for epoch in range(num_epochs):\n",
    "        for i, (X, y) in enumerate(train_loader):\n",
    "            X = X.to(device)\n",
    "            y = y.to(device)\n",
    "\n",
    "            # Forward pass\n",
    "            output = model(X)\n",
    "            loss = criterion(output, y)\n",
    "            \n",
    "            # Backward and optimize\n",
    "            optimizer.zero_grad()\n",
    "            loss.backward()\n",
    "            optimizer.step()\n",
    "\n",
    "            if (i + 1) % 1000 == 0:\n",
    "                print(\"Epoch [{}/{}], Step [{}/{}] Loss: {:.4f}\".format(\n",
    "                    epoch + 1, num_epochs, i + 1, total_step, loss.item()))"
   ]
  },
  {
   "cell_type": "code",
   "execution_count": 15,
   "id": "74b3e681",
   "metadata": {},
   "outputs": [
    {
     "name": "stdout",
     "output_type": "stream",
     "text": [
      "Accuracy of the model on the test samples: 70.16 %\n"
     ]
    }
   ],
   "source": [
    "# Test the model\n",
    "model.eval()\n",
    "with torch.no_grad():\n",
    "    correct = 0\n",
    "    total = 0\n",
    "    for X, y in test_loader:\n",
    "        X = X.to(device)\n",
    "        y = y.to(device).bool()\n",
    "        output = model(X)\n",
    "        y_pred = output > 0.7\n",
    "        total += y.shape[0]\n",
    "        correct += (y_pred == y).sum().item()\n",
    "\n",
    "    print('Accuracy of the model on the test samples: {:.2f} %'.format(\n",
    "        100 * correct / total))"
   ]
  },
  {
   "cell_type": "code",
   "execution_count": 16,
   "id": "744a0605",
   "metadata": {},
   "outputs": [],
   "source": [
    "torch.save(model.cpu().state_dict(), 'ncf.pt')"
   ]
  },
  {
   "cell_type": "code",
   "execution_count": null,
   "id": "70f6eb4e",
   "metadata": {},
   "outputs": [],
   "source": []
  }
 ],
 "metadata": {
  "kernelspec": {
   "display_name": "base",
   "language": "python",
   "name": "python3"
  },
  "language_info": {
   "codemirror_mode": {
    "name": "ipython",
    "version": 3
   },
   "file_extension": ".py",
   "mimetype": "text/x-python",
   "name": "python",
   "nbconvert_exporter": "python",
   "pygments_lexer": "ipython3",
   "version": "3.9.13 (main, Aug 25 2022, 23:51:50) [MSC v.1916 64 bit (AMD64)]"
  },
  "vscode": {
   "interpreter": {
    "hash": "cbb5f3d532aec8608a2fec9573bdcbc5182a804a4738e1f49913b4f315f16aee"
   }
  }
 },
 "nbformat": 4,
 "nbformat_minor": 5
}
