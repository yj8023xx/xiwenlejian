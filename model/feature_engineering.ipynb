{
 "cells": [
  {
   "cell_type": "markdown",
   "id": "c9707ce6",
   "metadata": {},
   "source": [
    "## 特征工程"
   ]
  },
  {
   "cell_type": "code",
   "execution_count": 1,
   "id": "393f954d",
   "metadata": {},
   "outputs": [],
   "source": [
    "import pandas as pd\n",
    "import json\n",
    "from collections import OrderedDict"
   ]
  },
  {
   "cell_type": "code",
   "execution_count": 2,
   "id": "b5ccb812",
   "metadata": {},
   "outputs": [
    {
     "data": {
      "text/plain": "        user_id                            location   age\n0             1                  nyc, new york, usa   NaN\n1             2           stockton, california, usa  18.0\n2             3     moscow, yukon territory, russia   NaN\n3             4           porto, v.n.gaia, portugal  17.0\n4             5  farnborough, hants, united kingdom   NaN\n...         ...                                 ...   ...\n278853   278854               portland, oregon, usa   NaN\n278854   278855  tacoma, washington, united kingdom  50.0\n278855   278856           brampton, ontario, canada   NaN\n278856   278857           knoxville, tennessee, usa   NaN\n278857   278858                dublin, n/a, ireland   NaN\n\n[278858 rows x 3 columns]",
      "text/html": "<div>\n<style scoped>\n    .dataframe tbody tr th:only-of-type {\n        vertical-align: middle;\n    }\n\n    .dataframe tbody tr th {\n        vertical-align: top;\n    }\n\n    .dataframe thead th {\n        text-align: right;\n    }\n</style>\n<table border=\"1\" class=\"dataframe\">\n  <thead>\n    <tr style=\"text-align: right;\">\n      <th></th>\n      <th>user_id</th>\n      <th>location</th>\n      <th>age</th>\n    </tr>\n  </thead>\n  <tbody>\n    <tr>\n      <th>0</th>\n      <td>1</td>\n      <td>nyc, new york, usa</td>\n      <td>NaN</td>\n    </tr>\n    <tr>\n      <th>1</th>\n      <td>2</td>\n      <td>stockton, california, usa</td>\n      <td>18.0</td>\n    </tr>\n    <tr>\n      <th>2</th>\n      <td>3</td>\n      <td>moscow, yukon territory, russia</td>\n      <td>NaN</td>\n    </tr>\n    <tr>\n      <th>3</th>\n      <td>4</td>\n      <td>porto, v.n.gaia, portugal</td>\n      <td>17.0</td>\n    </tr>\n    <tr>\n      <th>4</th>\n      <td>5</td>\n      <td>farnborough, hants, united kingdom</td>\n      <td>NaN</td>\n    </tr>\n    <tr>\n      <th>...</th>\n      <td>...</td>\n      <td>...</td>\n      <td>...</td>\n    </tr>\n    <tr>\n      <th>278853</th>\n      <td>278854</td>\n      <td>portland, oregon, usa</td>\n      <td>NaN</td>\n    </tr>\n    <tr>\n      <th>278854</th>\n      <td>278855</td>\n      <td>tacoma, washington, united kingdom</td>\n      <td>50.0</td>\n    </tr>\n    <tr>\n      <th>278855</th>\n      <td>278856</td>\n      <td>brampton, ontario, canada</td>\n      <td>NaN</td>\n    </tr>\n    <tr>\n      <th>278856</th>\n      <td>278857</td>\n      <td>knoxville, tennessee, usa</td>\n      <td>NaN</td>\n    </tr>\n    <tr>\n      <th>278857</th>\n      <td>278858</td>\n      <td>dublin, n/a, ireland</td>\n      <td>NaN</td>\n    </tr>\n  </tbody>\n</table>\n<p>278858 rows × 3 columns</p>\n</div>"
     },
     "execution_count": 2,
     "metadata": {},
     "output_type": "execute_result"
    }
   ],
   "source": [
    "user = pd.read_csv('../data/BX-Users.csv', sep=';', encoding='ISO-8859-1', escapechar='\\\\', quotechar='\"')\n",
    "user.columns = ['user_id', 'location', 'age']\n",
    "user"
   ]
  },
  {
   "cell_type": "code",
   "execution_count": 3,
   "id": "4b9aacf7",
   "metadata": {},
   "outputs": [
    {
     "data": {
      "text/plain": "            user_id            age\ncount  278858.00000  168096.000000\nmean   139429.50000      34.751434\nstd     80499.51502      14.428097\nmin         1.00000       0.000000\n25%     69715.25000      24.000000\n50%    139429.50000      32.000000\n75%    209143.75000      44.000000\nmax    278858.00000     244.000000",
      "text/html": "<div>\n<style scoped>\n    .dataframe tbody tr th:only-of-type {\n        vertical-align: middle;\n    }\n\n    .dataframe tbody tr th {\n        vertical-align: top;\n    }\n\n    .dataframe thead th {\n        text-align: right;\n    }\n</style>\n<table border=\"1\" class=\"dataframe\">\n  <thead>\n    <tr style=\"text-align: right;\">\n      <th></th>\n      <th>user_id</th>\n      <th>age</th>\n    </tr>\n  </thead>\n  <tbody>\n    <tr>\n      <th>count</th>\n      <td>278858.00000</td>\n      <td>168096.000000</td>\n    </tr>\n    <tr>\n      <th>mean</th>\n      <td>139429.50000</td>\n      <td>34.751434</td>\n    </tr>\n    <tr>\n      <th>std</th>\n      <td>80499.51502</td>\n      <td>14.428097</td>\n    </tr>\n    <tr>\n      <th>min</th>\n      <td>1.00000</td>\n      <td>0.000000</td>\n    </tr>\n    <tr>\n      <th>25%</th>\n      <td>69715.25000</td>\n      <td>24.000000</td>\n    </tr>\n    <tr>\n      <th>50%</th>\n      <td>139429.50000</td>\n      <td>32.000000</td>\n    </tr>\n    <tr>\n      <th>75%</th>\n      <td>209143.75000</td>\n      <td>44.000000</td>\n    </tr>\n    <tr>\n      <th>max</th>\n      <td>278858.00000</td>\n      <td>244.000000</td>\n    </tr>\n  </tbody>\n</table>\n</div>"
     },
     "execution_count": 3,
     "metadata": {},
     "output_type": "execute_result"
    }
   ],
   "source": [
    "user.describe()"
   ]
  },
  {
   "cell_type": "code",
   "execution_count": 4,
   "id": "a1e2c2b1",
   "metadata": {},
   "outputs": [
    {
     "data": {
      "text/plain": "user_id     0.000000\nlocation    0.000000\nage         0.397199\ndtype: float64"
     },
     "execution_count": 4,
     "metadata": {},
     "output_type": "execute_result"
    }
   ],
   "source": [
    "user.isnull().sum() / len(user)"
   ]
  },
  {
   "cell_type": "code",
   "execution_count": 5,
   "id": "85506b5c",
   "metadata": {},
   "outputs": [],
   "source": [
    "user['age'].fillna(user['age'].mean(), inplace=True)\n",
    "user['age'] = user['age'].astype('int32')"
   ]
  },
  {
   "cell_type": "code",
   "execution_count": 6,
   "id": "4e94be10",
   "metadata": {},
   "outputs": [
    {
     "data": {
      "text/plain": "              isbn                                              title  \\\n0       0195153448                                Classical Mythology   \n1       0002005018                                       Clara Callan   \n2       0060973129                               Decision in Normandy   \n3       0374157065  Flu: The Story of the Great Influenza Pandemic...   \n4       0393045218                             The Mummies of Urumchi   \n...            ...                                                ...   \n271374  0440400988                         There's a Bat in Bunk Five   \n271375  0525447644                            From One to One Hundred   \n271376  006008667X  Lily Dale : The True Story of the Town that Ta...   \n271377  0192126040                        Republic (World's Classics)   \n271378  0767409752  A Guided Tour of Rene Descartes' Meditations o...   \n\n                      author  release_year  \\\n0         Mark P. O. Morford          2002   \n1       Richard Bruce Wright          2001   \n2               Carlo D'Este          1991   \n3           Gina Bari Kolata          1999   \n4            E. J. W. Barber          1999   \n...                      ...           ...   \n271374        Paula Danziger          1988   \n271375            Teri Sloat          1991   \n271376      Christine Wicker          2004   \n271377                 Plato          1996   \n271378   Christopher  Biffle          2000   \n\n                                               publisher  \\\n0                                Oxford University Press   \n1                                  HarperFlamingo Canada   \n2                                        HarperPerennial   \n3                                   Farrar Straus Giroux   \n4                             W. W. Norton &amp; Company   \n...                                                  ...   \n271374                   Random House Childrens Pub (Mm)   \n271375                                      Dutton Books   \n271376                                HarperSanFrancisco   \n271377                           Oxford University Press   \n271378  McGraw-Hill Humanities/Social Sciences/Languages   \n\n                                              image_url_s  \\\n0       http://images.amazon.com/images/P/0195153448.0...   \n1       http://images.amazon.com/images/P/0002005018.0...   \n2       http://images.amazon.com/images/P/0060973129.0...   \n3       http://images.amazon.com/images/P/0374157065.0...   \n4       http://images.amazon.com/images/P/0393045218.0...   \n...                                                   ...   \n271374  http://images.amazon.com/images/P/0440400988.0...   \n271375  http://images.amazon.com/images/P/0525447644.0...   \n271376  http://images.amazon.com/images/P/006008667X.0...   \n271377  http://images.amazon.com/images/P/0192126040.0...   \n271378  http://images.amazon.com/images/P/0767409752.0...   \n\n                                              image_url_m  \\\n0       http://images.amazon.com/images/P/0195153448.0...   \n1       http://images.amazon.com/images/P/0002005018.0...   \n2       http://images.amazon.com/images/P/0060973129.0...   \n3       http://images.amazon.com/images/P/0374157065.0...   \n4       http://images.amazon.com/images/P/0393045218.0...   \n...                                                   ...   \n271374  http://images.amazon.com/images/P/0440400988.0...   \n271375  http://images.amazon.com/images/P/0525447644.0...   \n271376  http://images.amazon.com/images/P/006008667X.0...   \n271377  http://images.amazon.com/images/P/0192126040.0...   \n271378  http://images.amazon.com/images/P/0767409752.0...   \n\n                                              image_url_l  \n0       http://images.amazon.com/images/P/0195153448.0...  \n1       http://images.amazon.com/images/P/0002005018.0...  \n2       http://images.amazon.com/images/P/0060973129.0...  \n3       http://images.amazon.com/images/P/0374157065.0...  \n4       http://images.amazon.com/images/P/0393045218.0...  \n...                                                   ...  \n271374  http://images.amazon.com/images/P/0440400988.0...  \n271375  http://images.amazon.com/images/P/0525447644.0...  \n271376  http://images.amazon.com/images/P/006008667X.0...  \n271377  http://images.amazon.com/images/P/0192126040.0...  \n271378  http://images.amazon.com/images/P/0767409752.0...  \n\n[271379 rows x 8 columns]",
      "text/html": "<div>\n<style scoped>\n    .dataframe tbody tr th:only-of-type {\n        vertical-align: middle;\n    }\n\n    .dataframe tbody tr th {\n        vertical-align: top;\n    }\n\n    .dataframe thead th {\n        text-align: right;\n    }\n</style>\n<table border=\"1\" class=\"dataframe\">\n  <thead>\n    <tr style=\"text-align: right;\">\n      <th></th>\n      <th>isbn</th>\n      <th>title</th>\n      <th>author</th>\n      <th>release_year</th>\n      <th>publisher</th>\n      <th>image_url_s</th>\n      <th>image_url_m</th>\n      <th>image_url_l</th>\n    </tr>\n  </thead>\n  <tbody>\n    <tr>\n      <th>0</th>\n      <td>0195153448</td>\n      <td>Classical Mythology</td>\n      <td>Mark P. O. Morford</td>\n      <td>2002</td>\n      <td>Oxford University Press</td>\n      <td>http://images.amazon.com/images/P/0195153448.0...</td>\n      <td>http://images.amazon.com/images/P/0195153448.0...</td>\n      <td>http://images.amazon.com/images/P/0195153448.0...</td>\n    </tr>\n    <tr>\n      <th>1</th>\n      <td>0002005018</td>\n      <td>Clara Callan</td>\n      <td>Richard Bruce Wright</td>\n      <td>2001</td>\n      <td>HarperFlamingo Canada</td>\n      <td>http://images.amazon.com/images/P/0002005018.0...</td>\n      <td>http://images.amazon.com/images/P/0002005018.0...</td>\n      <td>http://images.amazon.com/images/P/0002005018.0...</td>\n    </tr>\n    <tr>\n      <th>2</th>\n      <td>0060973129</td>\n      <td>Decision in Normandy</td>\n      <td>Carlo D'Este</td>\n      <td>1991</td>\n      <td>HarperPerennial</td>\n      <td>http://images.amazon.com/images/P/0060973129.0...</td>\n      <td>http://images.amazon.com/images/P/0060973129.0...</td>\n      <td>http://images.amazon.com/images/P/0060973129.0...</td>\n    </tr>\n    <tr>\n      <th>3</th>\n      <td>0374157065</td>\n      <td>Flu: The Story of the Great Influenza Pandemic...</td>\n      <td>Gina Bari Kolata</td>\n      <td>1999</td>\n      <td>Farrar Straus Giroux</td>\n      <td>http://images.amazon.com/images/P/0374157065.0...</td>\n      <td>http://images.amazon.com/images/P/0374157065.0...</td>\n      <td>http://images.amazon.com/images/P/0374157065.0...</td>\n    </tr>\n    <tr>\n      <th>4</th>\n      <td>0393045218</td>\n      <td>The Mummies of Urumchi</td>\n      <td>E. J. W. Barber</td>\n      <td>1999</td>\n      <td>W. W. Norton &amp;amp; Company</td>\n      <td>http://images.amazon.com/images/P/0393045218.0...</td>\n      <td>http://images.amazon.com/images/P/0393045218.0...</td>\n      <td>http://images.amazon.com/images/P/0393045218.0...</td>\n    </tr>\n    <tr>\n      <th>...</th>\n      <td>...</td>\n      <td>...</td>\n      <td>...</td>\n      <td>...</td>\n      <td>...</td>\n      <td>...</td>\n      <td>...</td>\n      <td>...</td>\n    </tr>\n    <tr>\n      <th>271374</th>\n      <td>0440400988</td>\n      <td>There's a Bat in Bunk Five</td>\n      <td>Paula Danziger</td>\n      <td>1988</td>\n      <td>Random House Childrens Pub (Mm)</td>\n      <td>http://images.amazon.com/images/P/0440400988.0...</td>\n      <td>http://images.amazon.com/images/P/0440400988.0...</td>\n      <td>http://images.amazon.com/images/P/0440400988.0...</td>\n    </tr>\n    <tr>\n      <th>271375</th>\n      <td>0525447644</td>\n      <td>From One to One Hundred</td>\n      <td>Teri Sloat</td>\n      <td>1991</td>\n      <td>Dutton Books</td>\n      <td>http://images.amazon.com/images/P/0525447644.0...</td>\n      <td>http://images.amazon.com/images/P/0525447644.0...</td>\n      <td>http://images.amazon.com/images/P/0525447644.0...</td>\n    </tr>\n    <tr>\n      <th>271376</th>\n      <td>006008667X</td>\n      <td>Lily Dale : The True Story of the Town that Ta...</td>\n      <td>Christine Wicker</td>\n      <td>2004</td>\n      <td>HarperSanFrancisco</td>\n      <td>http://images.amazon.com/images/P/006008667X.0...</td>\n      <td>http://images.amazon.com/images/P/006008667X.0...</td>\n      <td>http://images.amazon.com/images/P/006008667X.0...</td>\n    </tr>\n    <tr>\n      <th>271377</th>\n      <td>0192126040</td>\n      <td>Republic (World's Classics)</td>\n      <td>Plato</td>\n      <td>1996</td>\n      <td>Oxford University Press</td>\n      <td>http://images.amazon.com/images/P/0192126040.0...</td>\n      <td>http://images.amazon.com/images/P/0192126040.0...</td>\n      <td>http://images.amazon.com/images/P/0192126040.0...</td>\n    </tr>\n    <tr>\n      <th>271378</th>\n      <td>0767409752</td>\n      <td>A Guided Tour of Rene Descartes' Meditations o...</td>\n      <td>Christopher  Biffle</td>\n      <td>2000</td>\n      <td>McGraw-Hill Humanities/Social Sciences/Languages</td>\n      <td>http://images.amazon.com/images/P/0767409752.0...</td>\n      <td>http://images.amazon.com/images/P/0767409752.0...</td>\n      <td>http://images.amazon.com/images/P/0767409752.0...</td>\n    </tr>\n  </tbody>\n</table>\n<p>271379 rows × 8 columns</p>\n</div>"
     },
     "execution_count": 6,
     "metadata": {},
     "output_type": "execute_result"
    }
   ],
   "source": [
    "book = pd.read_csv('../data/BX-Books.csv', sep=';',\n",
    "                   encoding='ISO-8859-1', escapechar='\\\\', quotechar='\"')\n",
    "book.columns = ['isbn', 'title', 'author', 'release_year',\n",
    "                'publisher', 'image_url_s', 'image_url_m', 'image_url_l']\n",
    "book"
   ]
  },
  {
   "cell_type": "code",
   "execution_count": 7,
   "id": "3657f59f",
   "metadata": {},
   "outputs": [
    {
     "data": {
      "text/plain": "        release_year\ncount  271379.000000\nmean     1959.756050\nstd       258.011363\nmin         0.000000\n25%      1989.000000\n50%      1995.000000\n75%      2000.000000\nmax      2050.000000",
      "text/html": "<div>\n<style scoped>\n    .dataframe tbody tr th:only-of-type {\n        vertical-align: middle;\n    }\n\n    .dataframe tbody tr th {\n        vertical-align: top;\n    }\n\n    .dataframe thead th {\n        text-align: right;\n    }\n</style>\n<table border=\"1\" class=\"dataframe\">\n  <thead>\n    <tr style=\"text-align: right;\">\n      <th></th>\n      <th>release_year</th>\n    </tr>\n  </thead>\n  <tbody>\n    <tr>\n      <th>count</th>\n      <td>271379.000000</td>\n    </tr>\n    <tr>\n      <th>mean</th>\n      <td>1959.756050</td>\n    </tr>\n    <tr>\n      <th>std</th>\n      <td>258.011363</td>\n    </tr>\n    <tr>\n      <th>min</th>\n      <td>0.000000</td>\n    </tr>\n    <tr>\n      <th>25%</th>\n      <td>1989.000000</td>\n    </tr>\n    <tr>\n      <th>50%</th>\n      <td>1995.000000</td>\n    </tr>\n    <tr>\n      <th>75%</th>\n      <td>2000.000000</td>\n    </tr>\n    <tr>\n      <th>max</th>\n      <td>2050.000000</td>\n    </tr>\n  </tbody>\n</table>\n</div>"
     },
     "execution_count": 7,
     "metadata": {},
     "output_type": "execute_result"
    }
   ],
   "source": [
    "book.describe()"
   ]
  },
  {
   "cell_type": "code",
   "execution_count": 8,
   "id": "5081104e",
   "metadata": {},
   "outputs": [
    {
     "data": {
      "text/plain": "isbn            0.000000\ntitle           0.000000\nauthor          0.000004\nrelease_year    0.000000\npublisher       0.000007\nimage_url_s     0.000000\nimage_url_m     0.000000\nimage_url_l     0.000000\ndtype: float64"
     },
     "execution_count": 8,
     "metadata": {},
     "output_type": "execute_result"
    }
   ],
   "source": [
    "book.isnull().sum() / len(book)"
   ]
  },
  {
   "cell_type": "code",
   "execution_count": 9,
   "id": "de4d0794",
   "metadata": {},
   "outputs": [
    {
     "data": {
      "text/plain": "0              1\n1              2\n2              3\n3              4\n4              5\n           ...  \n271374    271375\n271375    271376\n271376    271377\n271377    271378\n271378    271379\nName: isbn, Length: 271379, dtype: int64"
     },
     "execution_count": 9,
     "metadata": {},
     "output_type": "execute_result"
    }
   ],
   "source": [
    "feature_mapping = {val: i + 1 for i, val in enumerate(list(book['isbn'].unique()))}\n",
    "book_id = book['isbn'].map(feature_mapping)\n",
    "book_id"
   ]
  },
  {
   "cell_type": "code",
   "execution_count": 10,
   "id": "75d88ae8",
   "metadata": {},
   "outputs": [
    {
     "data": {
      "text/plain": "        book_id        isbn  \\\n0             1  0195153448   \n1             2  0002005018   \n2             3  0060973129   \n3             4  0374157065   \n4             5  0393045218   \n...         ...         ...   \n271374   271375  0440400988   \n271375   271376  0525447644   \n271376   271377  006008667X   \n271377   271378  0192126040   \n271378   271379  0767409752   \n\n                                                    title  \\\n0                                     Classical Mythology   \n1                                            Clara Callan   \n2                                    Decision in Normandy   \n3       Flu: The Story of the Great Influenza Pandemic...   \n4                                  The Mummies of Urumchi   \n...                                                   ...   \n271374                         There's a Bat in Bunk Five   \n271375                            From One to One Hundred   \n271376  Lily Dale : The True Story of the Town that Ta...   \n271377                        Republic (World's Classics)   \n271378  A Guided Tour of Rene Descartes' Meditations o...   \n\n                      author  release_year  \\\n0         Mark P. O. Morford          2002   \n1       Richard Bruce Wright          2001   \n2               Carlo D'Este          1991   \n3           Gina Bari Kolata          1999   \n4            E. J. W. Barber          1999   \n...                      ...           ...   \n271374        Paula Danziger          1988   \n271375            Teri Sloat          1991   \n271376      Christine Wicker          2004   \n271377                 Plato          1996   \n271378   Christopher  Biffle          2000   \n\n                                               publisher  \\\n0                                Oxford University Press   \n1                                  HarperFlamingo Canada   \n2                                        HarperPerennial   \n3                                   Farrar Straus Giroux   \n4                             W. W. Norton &amp; Company   \n...                                                  ...   \n271374                   Random House Childrens Pub (Mm)   \n271375                                      Dutton Books   \n271376                                HarperSanFrancisco   \n271377                           Oxford University Press   \n271378  McGraw-Hill Humanities/Social Sciences/Languages   \n\n                                              image_url_s  \\\n0       http://images.amazon.com/images/P/0195153448.0...   \n1       http://images.amazon.com/images/P/0002005018.0...   \n2       http://images.amazon.com/images/P/0060973129.0...   \n3       http://images.amazon.com/images/P/0374157065.0...   \n4       http://images.amazon.com/images/P/0393045218.0...   \n...                                                   ...   \n271374  http://images.amazon.com/images/P/0440400988.0...   \n271375  http://images.amazon.com/images/P/0525447644.0...   \n271376  http://images.amazon.com/images/P/006008667X.0...   \n271377  http://images.amazon.com/images/P/0192126040.0...   \n271378  http://images.amazon.com/images/P/0767409752.0...   \n\n                                              image_url_m  \\\n0       http://images.amazon.com/images/P/0195153448.0...   \n1       http://images.amazon.com/images/P/0002005018.0...   \n2       http://images.amazon.com/images/P/0060973129.0...   \n3       http://images.amazon.com/images/P/0374157065.0...   \n4       http://images.amazon.com/images/P/0393045218.0...   \n...                                                   ...   \n271374  http://images.amazon.com/images/P/0440400988.0...   \n271375  http://images.amazon.com/images/P/0525447644.0...   \n271376  http://images.amazon.com/images/P/006008667X.0...   \n271377  http://images.amazon.com/images/P/0192126040.0...   \n271378  http://images.amazon.com/images/P/0767409752.0...   \n\n                                              image_url_l  \n0       http://images.amazon.com/images/P/0195153448.0...  \n1       http://images.amazon.com/images/P/0002005018.0...  \n2       http://images.amazon.com/images/P/0060973129.0...  \n3       http://images.amazon.com/images/P/0374157065.0...  \n4       http://images.amazon.com/images/P/0393045218.0...  \n...                                                   ...  \n271374  http://images.amazon.com/images/P/0440400988.0...  \n271375  http://images.amazon.com/images/P/0525447644.0...  \n271376  http://images.amazon.com/images/P/006008667X.0...  \n271377  http://images.amazon.com/images/P/0192126040.0...  \n271378  http://images.amazon.com/images/P/0767409752.0...  \n\n[271379 rows x 9 columns]",
      "text/html": "<div>\n<style scoped>\n    .dataframe tbody tr th:only-of-type {\n        vertical-align: middle;\n    }\n\n    .dataframe tbody tr th {\n        vertical-align: top;\n    }\n\n    .dataframe thead th {\n        text-align: right;\n    }\n</style>\n<table border=\"1\" class=\"dataframe\">\n  <thead>\n    <tr style=\"text-align: right;\">\n      <th></th>\n      <th>book_id</th>\n      <th>isbn</th>\n      <th>title</th>\n      <th>author</th>\n      <th>release_year</th>\n      <th>publisher</th>\n      <th>image_url_s</th>\n      <th>image_url_m</th>\n      <th>image_url_l</th>\n    </tr>\n  </thead>\n  <tbody>\n    <tr>\n      <th>0</th>\n      <td>1</td>\n      <td>0195153448</td>\n      <td>Classical Mythology</td>\n      <td>Mark P. O. Morford</td>\n      <td>2002</td>\n      <td>Oxford University Press</td>\n      <td>http://images.amazon.com/images/P/0195153448.0...</td>\n      <td>http://images.amazon.com/images/P/0195153448.0...</td>\n      <td>http://images.amazon.com/images/P/0195153448.0...</td>\n    </tr>\n    <tr>\n      <th>1</th>\n      <td>2</td>\n      <td>0002005018</td>\n      <td>Clara Callan</td>\n      <td>Richard Bruce Wright</td>\n      <td>2001</td>\n      <td>HarperFlamingo Canada</td>\n      <td>http://images.amazon.com/images/P/0002005018.0...</td>\n      <td>http://images.amazon.com/images/P/0002005018.0...</td>\n      <td>http://images.amazon.com/images/P/0002005018.0...</td>\n    </tr>\n    <tr>\n      <th>2</th>\n      <td>3</td>\n      <td>0060973129</td>\n      <td>Decision in Normandy</td>\n      <td>Carlo D'Este</td>\n      <td>1991</td>\n      <td>HarperPerennial</td>\n      <td>http://images.amazon.com/images/P/0060973129.0...</td>\n      <td>http://images.amazon.com/images/P/0060973129.0...</td>\n      <td>http://images.amazon.com/images/P/0060973129.0...</td>\n    </tr>\n    <tr>\n      <th>3</th>\n      <td>4</td>\n      <td>0374157065</td>\n      <td>Flu: The Story of the Great Influenza Pandemic...</td>\n      <td>Gina Bari Kolata</td>\n      <td>1999</td>\n      <td>Farrar Straus Giroux</td>\n      <td>http://images.amazon.com/images/P/0374157065.0...</td>\n      <td>http://images.amazon.com/images/P/0374157065.0...</td>\n      <td>http://images.amazon.com/images/P/0374157065.0...</td>\n    </tr>\n    <tr>\n      <th>4</th>\n      <td>5</td>\n      <td>0393045218</td>\n      <td>The Mummies of Urumchi</td>\n      <td>E. J. W. Barber</td>\n      <td>1999</td>\n      <td>W. W. Norton &amp;amp; Company</td>\n      <td>http://images.amazon.com/images/P/0393045218.0...</td>\n      <td>http://images.amazon.com/images/P/0393045218.0...</td>\n      <td>http://images.amazon.com/images/P/0393045218.0...</td>\n    </tr>\n    <tr>\n      <th>...</th>\n      <td>...</td>\n      <td>...</td>\n      <td>...</td>\n      <td>...</td>\n      <td>...</td>\n      <td>...</td>\n      <td>...</td>\n      <td>...</td>\n      <td>...</td>\n    </tr>\n    <tr>\n      <th>271374</th>\n      <td>271375</td>\n      <td>0440400988</td>\n      <td>There's a Bat in Bunk Five</td>\n      <td>Paula Danziger</td>\n      <td>1988</td>\n      <td>Random House Childrens Pub (Mm)</td>\n      <td>http://images.amazon.com/images/P/0440400988.0...</td>\n      <td>http://images.amazon.com/images/P/0440400988.0...</td>\n      <td>http://images.amazon.com/images/P/0440400988.0...</td>\n    </tr>\n    <tr>\n      <th>271375</th>\n      <td>271376</td>\n      <td>0525447644</td>\n      <td>From One to One Hundred</td>\n      <td>Teri Sloat</td>\n      <td>1991</td>\n      <td>Dutton Books</td>\n      <td>http://images.amazon.com/images/P/0525447644.0...</td>\n      <td>http://images.amazon.com/images/P/0525447644.0...</td>\n      <td>http://images.amazon.com/images/P/0525447644.0...</td>\n    </tr>\n    <tr>\n      <th>271376</th>\n      <td>271377</td>\n      <td>006008667X</td>\n      <td>Lily Dale : The True Story of the Town that Ta...</td>\n      <td>Christine Wicker</td>\n      <td>2004</td>\n      <td>HarperSanFrancisco</td>\n      <td>http://images.amazon.com/images/P/006008667X.0...</td>\n      <td>http://images.amazon.com/images/P/006008667X.0...</td>\n      <td>http://images.amazon.com/images/P/006008667X.0...</td>\n    </tr>\n    <tr>\n      <th>271377</th>\n      <td>271378</td>\n      <td>0192126040</td>\n      <td>Republic (World's Classics)</td>\n      <td>Plato</td>\n      <td>1996</td>\n      <td>Oxford University Press</td>\n      <td>http://images.amazon.com/images/P/0192126040.0...</td>\n      <td>http://images.amazon.com/images/P/0192126040.0...</td>\n      <td>http://images.amazon.com/images/P/0192126040.0...</td>\n    </tr>\n    <tr>\n      <th>271378</th>\n      <td>271379</td>\n      <td>0767409752</td>\n      <td>A Guided Tour of Rene Descartes' Meditations o...</td>\n      <td>Christopher  Biffle</td>\n      <td>2000</td>\n      <td>McGraw-Hill Humanities/Social Sciences/Languages</td>\n      <td>http://images.amazon.com/images/P/0767409752.0...</td>\n      <td>http://images.amazon.com/images/P/0767409752.0...</td>\n      <td>http://images.amazon.com/images/P/0767409752.0...</td>\n    </tr>\n  </tbody>\n</table>\n<p>271379 rows × 9 columns</p>\n</div>"
     },
     "execution_count": 10,
     "metadata": {},
     "output_type": "execute_result"
    }
   ],
   "source": [
    "book.insert(loc=0, column='book_id', value=book_id, allow_duplicates=False)\n",
    "book"
   ]
  },
  {
   "cell_type": "code",
   "execution_count": 11,
   "id": "8d3ae64a",
   "metadata": {},
   "outputs": [
    {
     "name": "stdout",
     "output_type": "stream",
     "text": [
      "<class 'pandas.core.series.Series'>\n",
      "RangeIndex: 271379 entries, 0 to 271378\n",
      "Series name: book_id\n",
      "Non-Null Count   Dtype\n",
      "--------------   -----\n",
      "271379 non-null  int64\n",
      "dtypes: int64(1)\n",
      "memory usage: 2.1 MB\n"
     ]
    }
   ],
   "source": [
    "book['book_id'].info()"
   ]
  },
  {
   "cell_type": "code",
   "execution_count": 12,
   "id": "515eab51",
   "metadata": {},
   "outputs": [
    {
     "data": {
      "text/plain": "         user_id         isbn  rating\n0         276725   034545104X       0\n1         276726   0155061224       5\n2         276727   0446520802       0\n3         276729   052165615X       3\n4         276729   0521795028       6\n...          ...          ...     ...\n1149775   276704   1563526298       9\n1149776   276706   0679447156       0\n1149777   276709   0515107662      10\n1149778   276721   0590442449      10\n1149779   276723  05162443314       8\n\n[1149780 rows x 3 columns]",
      "text/html": "<div>\n<style scoped>\n    .dataframe tbody tr th:only-of-type {\n        vertical-align: middle;\n    }\n\n    .dataframe tbody tr th {\n        vertical-align: top;\n    }\n\n    .dataframe thead th {\n        text-align: right;\n    }\n</style>\n<table border=\"1\" class=\"dataframe\">\n  <thead>\n    <tr style=\"text-align: right;\">\n      <th></th>\n      <th>user_id</th>\n      <th>isbn</th>\n      <th>rating</th>\n    </tr>\n  </thead>\n  <tbody>\n    <tr>\n      <th>0</th>\n      <td>276725</td>\n      <td>034545104X</td>\n      <td>0</td>\n    </tr>\n    <tr>\n      <th>1</th>\n      <td>276726</td>\n      <td>0155061224</td>\n      <td>5</td>\n    </tr>\n    <tr>\n      <th>2</th>\n      <td>276727</td>\n      <td>0446520802</td>\n      <td>0</td>\n    </tr>\n    <tr>\n      <th>3</th>\n      <td>276729</td>\n      <td>052165615X</td>\n      <td>3</td>\n    </tr>\n    <tr>\n      <th>4</th>\n      <td>276729</td>\n      <td>0521795028</td>\n      <td>6</td>\n    </tr>\n    <tr>\n      <th>...</th>\n      <td>...</td>\n      <td>...</td>\n      <td>...</td>\n    </tr>\n    <tr>\n      <th>1149775</th>\n      <td>276704</td>\n      <td>1563526298</td>\n      <td>9</td>\n    </tr>\n    <tr>\n      <th>1149776</th>\n      <td>276706</td>\n      <td>0679447156</td>\n      <td>0</td>\n    </tr>\n    <tr>\n      <th>1149777</th>\n      <td>276709</td>\n      <td>0515107662</td>\n      <td>10</td>\n    </tr>\n    <tr>\n      <th>1149778</th>\n      <td>276721</td>\n      <td>0590442449</td>\n      <td>10</td>\n    </tr>\n    <tr>\n      <th>1149779</th>\n      <td>276723</td>\n      <td>05162443314</td>\n      <td>8</td>\n    </tr>\n  </tbody>\n</table>\n<p>1149780 rows × 3 columns</p>\n</div>"
     },
     "execution_count": 12,
     "metadata": {},
     "output_type": "execute_result"
    }
   ],
   "source": [
    "book_ratings = pd.read_csv('../data/BX-Book-Ratings.csv',\n",
    "                           sep=';', encoding='ISO-8859-1', escapechar='\\\\', quotechar='\"')\n",
    "book_ratings.columns = ['user_id', 'isbn', 'rating']\n",
    "book_ratings"
   ]
  },
  {
   "cell_type": "code",
   "execution_count": 13,
   "id": "238b0e74",
   "metadata": {
    "scrolled": true
   },
   "outputs": [
    {
     "data": {
      "text/plain": "            user_id        rating\ncount  1.149780e+06  1.149780e+06\nmean   1.403864e+05  2.866950e+00\nstd    8.056228e+04  3.854184e+00\nmin    2.000000e+00  0.000000e+00\n25%    7.034500e+04  0.000000e+00\n50%    1.410100e+05  0.000000e+00\n75%    2.110280e+05  7.000000e+00\nmax    2.788540e+05  1.000000e+01",
      "text/html": "<div>\n<style scoped>\n    .dataframe tbody tr th:only-of-type {\n        vertical-align: middle;\n    }\n\n    .dataframe tbody tr th {\n        vertical-align: top;\n    }\n\n    .dataframe thead th {\n        text-align: right;\n    }\n</style>\n<table border=\"1\" class=\"dataframe\">\n  <thead>\n    <tr style=\"text-align: right;\">\n      <th></th>\n      <th>user_id</th>\n      <th>rating</th>\n    </tr>\n  </thead>\n  <tbody>\n    <tr>\n      <th>count</th>\n      <td>1.149780e+06</td>\n      <td>1.149780e+06</td>\n    </tr>\n    <tr>\n      <th>mean</th>\n      <td>1.403864e+05</td>\n      <td>2.866950e+00</td>\n    </tr>\n    <tr>\n      <th>std</th>\n      <td>8.056228e+04</td>\n      <td>3.854184e+00</td>\n    </tr>\n    <tr>\n      <th>min</th>\n      <td>2.000000e+00</td>\n      <td>0.000000e+00</td>\n    </tr>\n    <tr>\n      <th>25%</th>\n      <td>7.034500e+04</td>\n      <td>0.000000e+00</td>\n    </tr>\n    <tr>\n      <th>50%</th>\n      <td>1.410100e+05</td>\n      <td>0.000000e+00</td>\n    </tr>\n    <tr>\n      <th>75%</th>\n      <td>2.110280e+05</td>\n      <td>7.000000e+00</td>\n    </tr>\n    <tr>\n      <th>max</th>\n      <td>2.788540e+05</td>\n      <td>1.000000e+01</td>\n    </tr>\n  </tbody>\n</table>\n</div>"
     },
     "execution_count": 13,
     "metadata": {},
     "output_type": "execute_result"
    }
   ],
   "source": [
    "book_ratings.describe()"
   ]
  },
  {
   "cell_type": "code",
   "execution_count": 14,
   "id": "1f5d996c",
   "metadata": {
    "scrolled": true
   },
   "outputs": [
    {
     "name": "stdout",
     "output_type": "stream",
     "text": [
      "<class 'pandas.core.series.Series'>\n",
      "RangeIndex: 1149780 entries, 0 to 1149779\n",
      "Series name: user_id\n",
      "Non-Null Count    Dtype\n",
      "--------------    -----\n",
      "1149780 non-null  int64\n",
      "dtypes: int64(1)\n",
      "memory usage: 8.8 MB\n"
     ]
    }
   ],
   "source": [
    "book_ratings['user_id'].info()"
   ]
  },
  {
   "cell_type": "code",
   "execution_count": 15,
   "id": "7f6a8246",
   "metadata": {
    "scrolled": true
   },
   "outputs": [
    {
     "data": {
      "text/plain": "0     716109\n8     103736\n10     78610\n7      76457\n9      67541\n5      50974\n6      36924\n4       8904\n3       5996\n2       2759\n1       1770\nName: rating, dtype: int64"
     },
     "execution_count": 15,
     "metadata": {},
     "output_type": "execute_result"
    }
   ],
   "source": [
    "book_ratings['rating'].value_counts()"
   ]
  },
  {
   "cell_type": "code",
   "execution_count": 16,
   "id": "f2ceaa25",
   "metadata": {
    "scrolled": true
   },
   "outputs": [
    {
     "data": {
      "text/plain": "user_id    0.0\nisbn       0.0\nrating     0.0\ndtype: float64"
     },
     "execution_count": 16,
     "metadata": {},
     "output_type": "execute_result"
    }
   ],
   "source": [
    "book_ratings.isnull().sum() / len(book_ratings)"
   ]
  },
  {
   "cell_type": "code",
   "execution_count": 17,
   "outputs": [
    {
     "data": {
      "text/plain": "         user_id         isbn  rating\n1         276726   0155061224       5\n3         276729   052165615X       3\n4         276729   0521795028       6\n6         276736   3257224281       8\n7         276737   0600570967       6\n...          ...          ...     ...\n1149773   276704   0806917695       5\n1149775   276704   1563526298       9\n1149777   276709   0515107662      10\n1149778   276721   0590442449      10\n1149779   276723  05162443314       8\n\n[433671 rows x 3 columns]",
      "text/html": "<div>\n<style scoped>\n    .dataframe tbody tr th:only-of-type {\n        vertical-align: middle;\n    }\n\n    .dataframe tbody tr th {\n        vertical-align: top;\n    }\n\n    .dataframe thead th {\n        text-align: right;\n    }\n</style>\n<table border=\"1\" class=\"dataframe\">\n  <thead>\n    <tr style=\"text-align: right;\">\n      <th></th>\n      <th>user_id</th>\n      <th>isbn</th>\n      <th>rating</th>\n    </tr>\n  </thead>\n  <tbody>\n    <tr>\n      <th>1</th>\n      <td>276726</td>\n      <td>0155061224</td>\n      <td>5</td>\n    </tr>\n    <tr>\n      <th>3</th>\n      <td>276729</td>\n      <td>052165615X</td>\n      <td>3</td>\n    </tr>\n    <tr>\n      <th>4</th>\n      <td>276729</td>\n      <td>0521795028</td>\n      <td>6</td>\n    </tr>\n    <tr>\n      <th>6</th>\n      <td>276736</td>\n      <td>3257224281</td>\n      <td>8</td>\n    </tr>\n    <tr>\n      <th>7</th>\n      <td>276737</td>\n      <td>0600570967</td>\n      <td>6</td>\n    </tr>\n    <tr>\n      <th>...</th>\n      <td>...</td>\n      <td>...</td>\n      <td>...</td>\n    </tr>\n    <tr>\n      <th>1149773</th>\n      <td>276704</td>\n      <td>0806917695</td>\n      <td>5</td>\n    </tr>\n    <tr>\n      <th>1149775</th>\n      <td>276704</td>\n      <td>1563526298</td>\n      <td>9</td>\n    </tr>\n    <tr>\n      <th>1149777</th>\n      <td>276709</td>\n      <td>0515107662</td>\n      <td>10</td>\n    </tr>\n    <tr>\n      <th>1149778</th>\n      <td>276721</td>\n      <td>0590442449</td>\n      <td>10</td>\n    </tr>\n    <tr>\n      <th>1149779</th>\n      <td>276723</td>\n      <td>05162443314</td>\n      <td>8</td>\n    </tr>\n  </tbody>\n</table>\n<p>433671 rows × 3 columns</p>\n</div>"
     },
     "execution_count": 17,
     "metadata": {},
     "output_type": "execute_result"
    }
   ],
   "source": [
    "book_ratings = book_ratings.loc[book_ratings['rating'] != 0, :]\n",
    "book_ratings"
   ],
   "metadata": {
    "collapsed": false
   }
  },
  {
   "cell_type": "code",
   "execution_count": 18,
   "id": "c2c1c559",
   "metadata": {},
   "outputs": [],
   "source": [
    "book_id = book_ratings['isbn'].map(feature_mapping)"
   ]
  },
  {
   "cell_type": "code",
   "execution_count": 19,
   "id": "287d5010",
   "metadata": {},
   "outputs": [
    {
     "data": {
      "text/plain": "         user_id   book_id         isbn  rating\n1         276726  225830.0   0155061224       5\n3         276729  246855.0   052165615X       3\n4         276729  246856.0   0521795028       6\n6         276736       NaN   3257224281       8\n7         276737       NaN   0600570967       6\n...          ...       ...          ...     ...\n1149773   276704   69545.0   0806917695       5\n1149775   276704   69548.0   1563526298       9\n1149777   276709   15980.0   0515107662      10\n1149778   276721   56818.0   0590442449      10\n1149779   276723       NaN  05162443314       8\n\n[433671 rows x 4 columns]",
      "text/html": "<div>\n<style scoped>\n    .dataframe tbody tr th:only-of-type {\n        vertical-align: middle;\n    }\n\n    .dataframe tbody tr th {\n        vertical-align: top;\n    }\n\n    .dataframe thead th {\n        text-align: right;\n    }\n</style>\n<table border=\"1\" class=\"dataframe\">\n  <thead>\n    <tr style=\"text-align: right;\">\n      <th></th>\n      <th>user_id</th>\n      <th>book_id</th>\n      <th>isbn</th>\n      <th>rating</th>\n    </tr>\n  </thead>\n  <tbody>\n    <tr>\n      <th>1</th>\n      <td>276726</td>\n      <td>225830.0</td>\n      <td>0155061224</td>\n      <td>5</td>\n    </tr>\n    <tr>\n      <th>3</th>\n      <td>276729</td>\n      <td>246855.0</td>\n      <td>052165615X</td>\n      <td>3</td>\n    </tr>\n    <tr>\n      <th>4</th>\n      <td>276729</td>\n      <td>246856.0</td>\n      <td>0521795028</td>\n      <td>6</td>\n    </tr>\n    <tr>\n      <th>6</th>\n      <td>276736</td>\n      <td>NaN</td>\n      <td>3257224281</td>\n      <td>8</td>\n    </tr>\n    <tr>\n      <th>7</th>\n      <td>276737</td>\n      <td>NaN</td>\n      <td>0600570967</td>\n      <td>6</td>\n    </tr>\n    <tr>\n      <th>...</th>\n      <td>...</td>\n      <td>...</td>\n      <td>...</td>\n      <td>...</td>\n    </tr>\n    <tr>\n      <th>1149773</th>\n      <td>276704</td>\n      <td>69545.0</td>\n      <td>0806917695</td>\n      <td>5</td>\n    </tr>\n    <tr>\n      <th>1149775</th>\n      <td>276704</td>\n      <td>69548.0</td>\n      <td>1563526298</td>\n      <td>9</td>\n    </tr>\n    <tr>\n      <th>1149777</th>\n      <td>276709</td>\n      <td>15980.0</td>\n      <td>0515107662</td>\n      <td>10</td>\n    </tr>\n    <tr>\n      <th>1149778</th>\n      <td>276721</td>\n      <td>56818.0</td>\n      <td>0590442449</td>\n      <td>10</td>\n    </tr>\n    <tr>\n      <th>1149779</th>\n      <td>276723</td>\n      <td>NaN</td>\n      <td>05162443314</td>\n      <td>8</td>\n    </tr>\n  </tbody>\n</table>\n<p>433671 rows × 4 columns</p>\n</div>"
     },
     "execution_count": 19,
     "metadata": {},
     "output_type": "execute_result"
    }
   ],
   "source": [
    "book_ratings.insert(loc=1, column='book_id', value=book_id, allow_duplicates=False)\n",
    "book_ratings"
   ]
  },
  {
   "cell_type": "code",
   "execution_count": 20,
   "id": "8bd9d653",
   "metadata": {},
   "outputs": [
    {
     "data": {
      "text/plain": "         user_id   book_id        isbn  rating\n1         276726  225830.0  0155061224       5\n3         276729  246855.0  052165615X       3\n4         276729  246856.0  0521795028       6\n8         276744    9296.0  038550120X       7\n16        276747    4780.0  0060517794       9\n...          ...       ...         ...     ...\n1149771   276704     882.0  0743211383       7\n1149773   276704   69545.0  0806917695       5\n1149775   276704   69548.0  1563526298       9\n1149777   276709   15980.0  0515107662      10\n1149778   276721   56818.0  0590442449      10\n\n[383852 rows x 4 columns]",
      "text/html": "<div>\n<style scoped>\n    .dataframe tbody tr th:only-of-type {\n        vertical-align: middle;\n    }\n\n    .dataframe tbody tr th {\n        vertical-align: top;\n    }\n\n    .dataframe thead th {\n        text-align: right;\n    }\n</style>\n<table border=\"1\" class=\"dataframe\">\n  <thead>\n    <tr style=\"text-align: right;\">\n      <th></th>\n      <th>user_id</th>\n      <th>book_id</th>\n      <th>isbn</th>\n      <th>rating</th>\n    </tr>\n  </thead>\n  <tbody>\n    <tr>\n      <th>1</th>\n      <td>276726</td>\n      <td>225830.0</td>\n      <td>0155061224</td>\n      <td>5</td>\n    </tr>\n    <tr>\n      <th>3</th>\n      <td>276729</td>\n      <td>246855.0</td>\n      <td>052165615X</td>\n      <td>3</td>\n    </tr>\n    <tr>\n      <th>4</th>\n      <td>276729</td>\n      <td>246856.0</td>\n      <td>0521795028</td>\n      <td>6</td>\n    </tr>\n    <tr>\n      <th>8</th>\n      <td>276744</td>\n      <td>9296.0</td>\n      <td>038550120X</td>\n      <td>7</td>\n    </tr>\n    <tr>\n      <th>16</th>\n      <td>276747</td>\n      <td>4780.0</td>\n      <td>0060517794</td>\n      <td>9</td>\n    </tr>\n    <tr>\n      <th>...</th>\n      <td>...</td>\n      <td>...</td>\n      <td>...</td>\n      <td>...</td>\n    </tr>\n    <tr>\n      <th>1149771</th>\n      <td>276704</td>\n      <td>882.0</td>\n      <td>0743211383</td>\n      <td>7</td>\n    </tr>\n    <tr>\n      <th>1149773</th>\n      <td>276704</td>\n      <td>69545.0</td>\n      <td>0806917695</td>\n      <td>5</td>\n    </tr>\n    <tr>\n      <th>1149775</th>\n      <td>276704</td>\n      <td>69548.0</td>\n      <td>1563526298</td>\n      <td>9</td>\n    </tr>\n    <tr>\n      <th>1149777</th>\n      <td>276709</td>\n      <td>15980.0</td>\n      <td>0515107662</td>\n      <td>10</td>\n    </tr>\n    <tr>\n      <th>1149778</th>\n      <td>276721</td>\n      <td>56818.0</td>\n      <td>0590442449</td>\n      <td>10</td>\n    </tr>\n  </tbody>\n</table>\n<p>383852 rows × 4 columns</p>\n</div>"
     },
     "execution_count": 20,
     "metadata": {},
     "output_type": "execute_result"
    }
   ],
   "source": [
    "book_ratings = book_ratings.dropna(how='any')\n",
    "book_ratings"
   ]
  },
  {
   "cell_type": "code",
   "execution_count": 21,
   "id": "f6ca55cb",
   "metadata": {},
   "outputs": [
    {
     "data": {
      "text/plain": "         user_id   book_id  rating\n1         276726  225830.0       5\n3         276729  246855.0       3\n4         276729  246856.0       6\n8         276744    9296.0       7\n16        276747    4780.0       9\n...          ...       ...     ...\n1149771   276704     882.0       7\n1149773   276704   69545.0       5\n1149775   276704   69548.0       9\n1149777   276709   15980.0      10\n1149778   276721   56818.0      10\n\n[383852 rows x 3 columns]",
      "text/html": "<div>\n<style scoped>\n    .dataframe tbody tr th:only-of-type {\n        vertical-align: middle;\n    }\n\n    .dataframe tbody tr th {\n        vertical-align: top;\n    }\n\n    .dataframe thead th {\n        text-align: right;\n    }\n</style>\n<table border=\"1\" class=\"dataframe\">\n  <thead>\n    <tr style=\"text-align: right;\">\n      <th></th>\n      <th>user_id</th>\n      <th>book_id</th>\n      <th>rating</th>\n    </tr>\n  </thead>\n  <tbody>\n    <tr>\n      <th>1</th>\n      <td>276726</td>\n      <td>225830.0</td>\n      <td>5</td>\n    </tr>\n    <tr>\n      <th>3</th>\n      <td>276729</td>\n      <td>246855.0</td>\n      <td>3</td>\n    </tr>\n    <tr>\n      <th>4</th>\n      <td>276729</td>\n      <td>246856.0</td>\n      <td>6</td>\n    </tr>\n    <tr>\n      <th>8</th>\n      <td>276744</td>\n      <td>9296.0</td>\n      <td>7</td>\n    </tr>\n    <tr>\n      <th>16</th>\n      <td>276747</td>\n      <td>4780.0</td>\n      <td>9</td>\n    </tr>\n    <tr>\n      <th>...</th>\n      <td>...</td>\n      <td>...</td>\n      <td>...</td>\n    </tr>\n    <tr>\n      <th>1149771</th>\n      <td>276704</td>\n      <td>882.0</td>\n      <td>7</td>\n    </tr>\n    <tr>\n      <th>1149773</th>\n      <td>276704</td>\n      <td>69545.0</td>\n      <td>5</td>\n    </tr>\n    <tr>\n      <th>1149775</th>\n      <td>276704</td>\n      <td>69548.0</td>\n      <td>9</td>\n    </tr>\n    <tr>\n      <th>1149777</th>\n      <td>276709</td>\n      <td>15980.0</td>\n      <td>10</td>\n    </tr>\n    <tr>\n      <th>1149778</th>\n      <td>276721</td>\n      <td>56818.0</td>\n      <td>10</td>\n    </tr>\n  </tbody>\n</table>\n<p>383852 rows × 3 columns</p>\n</div>"
     },
     "execution_count": 21,
     "metadata": {},
     "output_type": "execute_result"
    }
   ],
   "source": [
    "book_ratings.pop('isbn')\n",
    "book_ratings"
   ]
  },
  {
   "cell_type": "code",
   "execution_count": 22,
   "id": "4ebe4d2a",
   "metadata": {},
   "outputs": [
    {
     "name": "stderr",
     "output_type": "stream",
     "text": [
      "C:\\Users\\zhang\\AppData\\Local\\Temp\\ipykernel_45444\\2808465432.py:1: SettingWithCopyWarning: \n",
      "A value is trying to be set on a copy of a slice from a DataFrame.\n",
      "Try using .loc[row_indexer,col_indexer] = value instead\n",
      "\n",
      "See the caveats in the documentation: https://pandas.pydata.org/pandas-docs/stable/user_guide/indexing.html#returning-a-view-versus-a-copy\n",
      "  book_ratings.loc[:, 'book_id'] = book_ratings['book_id'].astype('int64')\n"
     ]
    },
    {
     "data": {
      "text/plain": "         user_id  book_id  rating\n1         276726   225830       5\n3         276729   246855       3\n4         276729   246856       6\n8         276744     9296       7\n16        276747     4780       9\n...          ...      ...     ...\n1149771   276704      882       7\n1149773   276704    69545       5\n1149775   276704    69548       9\n1149777   276709    15980      10\n1149778   276721    56818      10\n\n[383852 rows x 3 columns]",
      "text/html": "<div>\n<style scoped>\n    .dataframe tbody tr th:only-of-type {\n        vertical-align: middle;\n    }\n\n    .dataframe tbody tr th {\n        vertical-align: top;\n    }\n\n    .dataframe thead th {\n        text-align: right;\n    }\n</style>\n<table border=\"1\" class=\"dataframe\">\n  <thead>\n    <tr style=\"text-align: right;\">\n      <th></th>\n      <th>user_id</th>\n      <th>book_id</th>\n      <th>rating</th>\n    </tr>\n  </thead>\n  <tbody>\n    <tr>\n      <th>1</th>\n      <td>276726</td>\n      <td>225830</td>\n      <td>5</td>\n    </tr>\n    <tr>\n      <th>3</th>\n      <td>276729</td>\n      <td>246855</td>\n      <td>3</td>\n    </tr>\n    <tr>\n      <th>4</th>\n      <td>276729</td>\n      <td>246856</td>\n      <td>6</td>\n    </tr>\n    <tr>\n      <th>8</th>\n      <td>276744</td>\n      <td>9296</td>\n      <td>7</td>\n    </tr>\n    <tr>\n      <th>16</th>\n      <td>276747</td>\n      <td>4780</td>\n      <td>9</td>\n    </tr>\n    <tr>\n      <th>...</th>\n      <td>...</td>\n      <td>...</td>\n      <td>...</td>\n    </tr>\n    <tr>\n      <th>1149771</th>\n      <td>276704</td>\n      <td>882</td>\n      <td>7</td>\n    </tr>\n    <tr>\n      <th>1149773</th>\n      <td>276704</td>\n      <td>69545</td>\n      <td>5</td>\n    </tr>\n    <tr>\n      <th>1149775</th>\n      <td>276704</td>\n      <td>69548</td>\n      <td>9</td>\n    </tr>\n    <tr>\n      <th>1149777</th>\n      <td>276709</td>\n      <td>15980</td>\n      <td>10</td>\n    </tr>\n    <tr>\n      <th>1149778</th>\n      <td>276721</td>\n      <td>56818</td>\n      <td>10</td>\n    </tr>\n  </tbody>\n</table>\n<p>383852 rows × 3 columns</p>\n</div>"
     },
     "execution_count": 22,
     "metadata": {},
     "output_type": "execute_result"
    }
   ],
   "source": [
    "book_ratings.loc[:, 'book_id'] = book_ratings['book_id'].astype('int64')\n",
    "book_ratings"
   ]
  },
  {
   "cell_type": "code",
   "execution_count": 23,
   "id": "a3c73203",
   "metadata": {},
   "outputs": [],
   "source": [
    "book_ratings.to_csv('../data/rating.csv', index=False)"
   ]
  },
  {
   "cell_type": "code",
   "execution_count": 24,
   "id": "9ede513d",
   "metadata": {},
   "outputs": [
    {
     "data": {
      "text/plain": "book_id\n2          7.7\n3          7.5\n4          7.8\n6          8.2\n7          8.0\n          ... \n271366    10.0\n271372     7.0\n271374     5.0\n271375     7.0\n271376     4.0\nName: rating, Length: 149842, dtype: float64"
     },
     "execution_count": 24,
     "metadata": {},
     "output_type": "execute_result"
    }
   ],
   "source": [
    "average_rating = book_ratings.groupby('book_id').mean().loc[:, 'rating'].round(1)\n",
    "average_rating"
   ]
  },
  {
   "cell_type": "code",
   "execution_count": 25,
   "id": "c35d63d0",
   "metadata": {},
   "outputs": [
    {
     "data": {
      "text/plain": "Int64Index([     2,      3,      4,      6,      7,      8,     10,     11,\n                13,     14,\n            ...\n            271351, 271352, 271353, 271354, 271355, 271366, 271372, 271374,\n            271375, 271376],\n           dtype='int64', name='book_id', length=149842)"
     },
     "execution_count": 25,
     "metadata": {},
     "output_type": "execute_result"
    }
   ],
   "source": [
    "average_rating.index"
   ]
  },
  {
   "cell_type": "code",
   "execution_count": 26,
   "id": "a17b9621",
   "metadata": {},
   "outputs": [
    {
     "data": {
      "text/plain": "array([7.7, 7.5, 7.8, ..., 5. , 7. , 4. ])"
     },
     "execution_count": 26,
     "metadata": {},
     "output_type": "execute_result"
    }
   ],
   "source": [
    "average_rating.values"
   ]
  },
  {
   "cell_type": "code",
   "execution_count": 27,
   "id": "6b040b10",
   "metadata": {},
   "outputs": [
    {
     "data": {
      "text/plain": "        book_id        isbn  \\\n0             1  0195153448   \n1             2  0002005018   \n2             3  0060973129   \n3             4  0374157065   \n4             5  0393045218   \n...         ...         ...   \n271374   271375  0440400988   \n271375   271376  0525447644   \n271376   271377  006008667X   \n271377   271378  0192126040   \n271378   271379  0767409752   \n\n                                                    title  \\\n0                                     Classical Mythology   \n1                                            Clara Callan   \n2                                    Decision in Normandy   \n3       Flu: The Story of the Great Influenza Pandemic...   \n4                                  The Mummies of Urumchi   \n...                                                   ...   \n271374                         There's a Bat in Bunk Five   \n271375                            From One to One Hundred   \n271376  Lily Dale : The True Story of the Town that Ta...   \n271377                        Republic (World's Classics)   \n271378  A Guided Tour of Rene Descartes' Meditations o...   \n\n                      author  release_year  \\\n0         Mark P. O. Morford          2002   \n1       Richard Bruce Wright          2001   \n2               Carlo D'Este          1991   \n3           Gina Bari Kolata          1999   \n4            E. J. W. Barber          1999   \n...                      ...           ...   \n271374        Paula Danziger          1988   \n271375            Teri Sloat          1991   \n271376      Christine Wicker          2004   \n271377                 Plato          1996   \n271378   Christopher  Biffle          2000   \n\n                                               publisher  average_rating  \\\n0                                Oxford University Press               0   \n1                                  HarperFlamingo Canada               0   \n2                                        HarperPerennial               0   \n3                                   Farrar Straus Giroux               0   \n4                             W. W. Norton &amp; Company               0   \n...                                                  ...             ...   \n271374                   Random House Childrens Pub (Mm)               0   \n271375                                      Dutton Books               0   \n271376                                HarperSanFrancisco               0   \n271377                           Oxford University Press               0   \n271378  McGraw-Hill Humanities/Social Sciences/Languages               0   \n\n                                              image_url_s  \\\n0       http://images.amazon.com/images/P/0195153448.0...   \n1       http://images.amazon.com/images/P/0002005018.0...   \n2       http://images.amazon.com/images/P/0060973129.0...   \n3       http://images.amazon.com/images/P/0374157065.0...   \n4       http://images.amazon.com/images/P/0393045218.0...   \n...                                                   ...   \n271374  http://images.amazon.com/images/P/0440400988.0...   \n271375  http://images.amazon.com/images/P/0525447644.0...   \n271376  http://images.amazon.com/images/P/006008667X.0...   \n271377  http://images.amazon.com/images/P/0192126040.0...   \n271378  http://images.amazon.com/images/P/0767409752.0...   \n\n                                              image_url_m  \\\n0       http://images.amazon.com/images/P/0195153448.0...   \n1       http://images.amazon.com/images/P/0002005018.0...   \n2       http://images.amazon.com/images/P/0060973129.0...   \n3       http://images.amazon.com/images/P/0374157065.0...   \n4       http://images.amazon.com/images/P/0393045218.0...   \n...                                                   ...   \n271374  http://images.amazon.com/images/P/0440400988.0...   \n271375  http://images.amazon.com/images/P/0525447644.0...   \n271376  http://images.amazon.com/images/P/006008667X.0...   \n271377  http://images.amazon.com/images/P/0192126040.0...   \n271378  http://images.amazon.com/images/P/0767409752.0...   \n\n                                              image_url_l  \n0       http://images.amazon.com/images/P/0195153448.0...  \n1       http://images.amazon.com/images/P/0002005018.0...  \n2       http://images.amazon.com/images/P/0060973129.0...  \n3       http://images.amazon.com/images/P/0374157065.0...  \n4       http://images.amazon.com/images/P/0393045218.0...  \n...                                                   ...  \n271374  http://images.amazon.com/images/P/0440400988.0...  \n271375  http://images.amazon.com/images/P/0525447644.0...  \n271376  http://images.amazon.com/images/P/006008667X.0...  \n271377  http://images.amazon.com/images/P/0192126040.0...  \n271378  http://images.amazon.com/images/P/0767409752.0...  \n\n[271379 rows x 10 columns]",
      "text/html": "<div>\n<style scoped>\n    .dataframe tbody tr th:only-of-type {\n        vertical-align: middle;\n    }\n\n    .dataframe tbody tr th {\n        vertical-align: top;\n    }\n\n    .dataframe thead th {\n        text-align: right;\n    }\n</style>\n<table border=\"1\" class=\"dataframe\">\n  <thead>\n    <tr style=\"text-align: right;\">\n      <th></th>\n      <th>book_id</th>\n      <th>isbn</th>\n      <th>title</th>\n      <th>author</th>\n      <th>release_year</th>\n      <th>publisher</th>\n      <th>average_rating</th>\n      <th>image_url_s</th>\n      <th>image_url_m</th>\n      <th>image_url_l</th>\n    </tr>\n  </thead>\n  <tbody>\n    <tr>\n      <th>0</th>\n      <td>1</td>\n      <td>0195153448</td>\n      <td>Classical Mythology</td>\n      <td>Mark P. O. Morford</td>\n      <td>2002</td>\n      <td>Oxford University Press</td>\n      <td>0</td>\n      <td>http://images.amazon.com/images/P/0195153448.0...</td>\n      <td>http://images.amazon.com/images/P/0195153448.0...</td>\n      <td>http://images.amazon.com/images/P/0195153448.0...</td>\n    </tr>\n    <tr>\n      <th>1</th>\n      <td>2</td>\n      <td>0002005018</td>\n      <td>Clara Callan</td>\n      <td>Richard Bruce Wright</td>\n      <td>2001</td>\n      <td>HarperFlamingo Canada</td>\n      <td>0</td>\n      <td>http://images.amazon.com/images/P/0002005018.0...</td>\n      <td>http://images.amazon.com/images/P/0002005018.0...</td>\n      <td>http://images.amazon.com/images/P/0002005018.0...</td>\n    </tr>\n    <tr>\n      <th>2</th>\n      <td>3</td>\n      <td>0060973129</td>\n      <td>Decision in Normandy</td>\n      <td>Carlo D'Este</td>\n      <td>1991</td>\n      <td>HarperPerennial</td>\n      <td>0</td>\n      <td>http://images.amazon.com/images/P/0060973129.0...</td>\n      <td>http://images.amazon.com/images/P/0060973129.0...</td>\n      <td>http://images.amazon.com/images/P/0060973129.0...</td>\n    </tr>\n    <tr>\n      <th>3</th>\n      <td>4</td>\n      <td>0374157065</td>\n      <td>Flu: The Story of the Great Influenza Pandemic...</td>\n      <td>Gina Bari Kolata</td>\n      <td>1999</td>\n      <td>Farrar Straus Giroux</td>\n      <td>0</td>\n      <td>http://images.amazon.com/images/P/0374157065.0...</td>\n      <td>http://images.amazon.com/images/P/0374157065.0...</td>\n      <td>http://images.amazon.com/images/P/0374157065.0...</td>\n    </tr>\n    <tr>\n      <th>4</th>\n      <td>5</td>\n      <td>0393045218</td>\n      <td>The Mummies of Urumchi</td>\n      <td>E. J. W. Barber</td>\n      <td>1999</td>\n      <td>W. W. Norton &amp;amp; Company</td>\n      <td>0</td>\n      <td>http://images.amazon.com/images/P/0393045218.0...</td>\n      <td>http://images.amazon.com/images/P/0393045218.0...</td>\n      <td>http://images.amazon.com/images/P/0393045218.0...</td>\n    </tr>\n    <tr>\n      <th>...</th>\n      <td>...</td>\n      <td>...</td>\n      <td>...</td>\n      <td>...</td>\n      <td>...</td>\n      <td>...</td>\n      <td>...</td>\n      <td>...</td>\n      <td>...</td>\n      <td>...</td>\n    </tr>\n    <tr>\n      <th>271374</th>\n      <td>271375</td>\n      <td>0440400988</td>\n      <td>There's a Bat in Bunk Five</td>\n      <td>Paula Danziger</td>\n      <td>1988</td>\n      <td>Random House Childrens Pub (Mm)</td>\n      <td>0</td>\n      <td>http://images.amazon.com/images/P/0440400988.0...</td>\n      <td>http://images.amazon.com/images/P/0440400988.0...</td>\n      <td>http://images.amazon.com/images/P/0440400988.0...</td>\n    </tr>\n    <tr>\n      <th>271375</th>\n      <td>271376</td>\n      <td>0525447644</td>\n      <td>From One to One Hundred</td>\n      <td>Teri Sloat</td>\n      <td>1991</td>\n      <td>Dutton Books</td>\n      <td>0</td>\n      <td>http://images.amazon.com/images/P/0525447644.0...</td>\n      <td>http://images.amazon.com/images/P/0525447644.0...</td>\n      <td>http://images.amazon.com/images/P/0525447644.0...</td>\n    </tr>\n    <tr>\n      <th>271376</th>\n      <td>271377</td>\n      <td>006008667X</td>\n      <td>Lily Dale : The True Story of the Town that Ta...</td>\n      <td>Christine Wicker</td>\n      <td>2004</td>\n      <td>HarperSanFrancisco</td>\n      <td>0</td>\n      <td>http://images.amazon.com/images/P/006008667X.0...</td>\n      <td>http://images.amazon.com/images/P/006008667X.0...</td>\n      <td>http://images.amazon.com/images/P/006008667X.0...</td>\n    </tr>\n    <tr>\n      <th>271377</th>\n      <td>271378</td>\n      <td>0192126040</td>\n      <td>Republic (World's Classics)</td>\n      <td>Plato</td>\n      <td>1996</td>\n      <td>Oxford University Press</td>\n      <td>0</td>\n      <td>http://images.amazon.com/images/P/0192126040.0...</td>\n      <td>http://images.amazon.com/images/P/0192126040.0...</td>\n      <td>http://images.amazon.com/images/P/0192126040.0...</td>\n    </tr>\n    <tr>\n      <th>271378</th>\n      <td>271379</td>\n      <td>0767409752</td>\n      <td>A Guided Tour of Rene Descartes' Meditations o...</td>\n      <td>Christopher  Biffle</td>\n      <td>2000</td>\n      <td>McGraw-Hill Humanities/Social Sciences/Languages</td>\n      <td>0</td>\n      <td>http://images.amazon.com/images/P/0767409752.0...</td>\n      <td>http://images.amazon.com/images/P/0767409752.0...</td>\n      <td>http://images.amazon.com/images/P/0767409752.0...</td>\n    </tr>\n  </tbody>\n</table>\n<p>271379 rows × 10 columns</p>\n</div>"
     },
     "execution_count": 27,
     "metadata": {},
     "output_type": "execute_result"
    }
   ],
   "source": [
    "book.insert(loc=6, column='average_rating', value=0)\n",
    "book"
   ]
  },
  {
   "cell_type": "code",
   "execution_count": 28,
   "id": "97c0fb0e",
   "metadata": {},
   "outputs": [
    {
     "data": {
      "text/plain": "        book_id        isbn  \\\n0             1  0195153448   \n1             2  0002005018   \n2             3  0060973129   \n3             4  0374157065   \n4             5  0393045218   \n...         ...         ...   \n271374   271375  0440400988   \n271375   271376  0525447644   \n271376   271377  006008667X   \n271377   271378  0192126040   \n271378   271379  0767409752   \n\n                                                    title  \\\n0                                     Classical Mythology   \n1                                            Clara Callan   \n2                                    Decision in Normandy   \n3       Flu: The Story of the Great Influenza Pandemic...   \n4                                  The Mummies of Urumchi   \n...                                                   ...   \n271374                         There's a Bat in Bunk Five   \n271375                            From One to One Hundred   \n271376  Lily Dale : The True Story of the Town that Ta...   \n271377                        Republic (World's Classics)   \n271378  A Guided Tour of Rene Descartes' Meditations o...   \n\n                      author  release_year  \\\n0         Mark P. O. Morford          2002   \n1       Richard Bruce Wright          2001   \n2               Carlo D'Este          1991   \n3           Gina Bari Kolata          1999   \n4            E. J. W. Barber          1999   \n...                      ...           ...   \n271374        Paula Danziger          1988   \n271375            Teri Sloat          1991   \n271376      Christine Wicker          2004   \n271377                 Plato          1996   \n271378   Christopher  Biffle          2000   \n\n                                               publisher  average_rating  \\\n0                                Oxford University Press             0.0   \n1                                  HarperFlamingo Canada             7.7   \n2                                        HarperPerennial             7.5   \n3                                   Farrar Straus Giroux             7.8   \n4                             W. W. Norton &amp; Company             0.0   \n...                                                  ...             ...   \n271374                   Random House Childrens Pub (Mm)             7.0   \n271375                                      Dutton Books             4.0   \n271376                                HarperSanFrancisco             0.0   \n271377                           Oxford University Press             0.0   \n271378  McGraw-Hill Humanities/Social Sciences/Languages             0.0   \n\n                                              image_url_s  \\\n0       http://images.amazon.com/images/P/0195153448.0...   \n1       http://images.amazon.com/images/P/0002005018.0...   \n2       http://images.amazon.com/images/P/0060973129.0...   \n3       http://images.amazon.com/images/P/0374157065.0...   \n4       http://images.amazon.com/images/P/0393045218.0...   \n...                                                   ...   \n271374  http://images.amazon.com/images/P/0440400988.0...   \n271375  http://images.amazon.com/images/P/0525447644.0...   \n271376  http://images.amazon.com/images/P/006008667X.0...   \n271377  http://images.amazon.com/images/P/0192126040.0...   \n271378  http://images.amazon.com/images/P/0767409752.0...   \n\n                                              image_url_m  \\\n0       http://images.amazon.com/images/P/0195153448.0...   \n1       http://images.amazon.com/images/P/0002005018.0...   \n2       http://images.amazon.com/images/P/0060973129.0...   \n3       http://images.amazon.com/images/P/0374157065.0...   \n4       http://images.amazon.com/images/P/0393045218.0...   \n...                                                   ...   \n271374  http://images.amazon.com/images/P/0440400988.0...   \n271375  http://images.amazon.com/images/P/0525447644.0...   \n271376  http://images.amazon.com/images/P/006008667X.0...   \n271377  http://images.amazon.com/images/P/0192126040.0...   \n271378  http://images.amazon.com/images/P/0767409752.0...   \n\n                                              image_url_l  \n0       http://images.amazon.com/images/P/0195153448.0...  \n1       http://images.amazon.com/images/P/0002005018.0...  \n2       http://images.amazon.com/images/P/0060973129.0...  \n3       http://images.amazon.com/images/P/0374157065.0...  \n4       http://images.amazon.com/images/P/0393045218.0...  \n...                                                   ...  \n271374  http://images.amazon.com/images/P/0440400988.0...  \n271375  http://images.amazon.com/images/P/0525447644.0...  \n271376  http://images.amazon.com/images/P/006008667X.0...  \n271377  http://images.amazon.com/images/P/0192126040.0...  \n271378  http://images.amazon.com/images/P/0767409752.0...  \n\n[271379 rows x 10 columns]",
      "text/html": "<div>\n<style scoped>\n    .dataframe tbody tr th:only-of-type {\n        vertical-align: middle;\n    }\n\n    .dataframe tbody tr th {\n        vertical-align: top;\n    }\n\n    .dataframe thead th {\n        text-align: right;\n    }\n</style>\n<table border=\"1\" class=\"dataframe\">\n  <thead>\n    <tr style=\"text-align: right;\">\n      <th></th>\n      <th>book_id</th>\n      <th>isbn</th>\n      <th>title</th>\n      <th>author</th>\n      <th>release_year</th>\n      <th>publisher</th>\n      <th>average_rating</th>\n      <th>image_url_s</th>\n      <th>image_url_m</th>\n      <th>image_url_l</th>\n    </tr>\n  </thead>\n  <tbody>\n    <tr>\n      <th>0</th>\n      <td>1</td>\n      <td>0195153448</td>\n      <td>Classical Mythology</td>\n      <td>Mark P. O. Morford</td>\n      <td>2002</td>\n      <td>Oxford University Press</td>\n      <td>0.0</td>\n      <td>http://images.amazon.com/images/P/0195153448.0...</td>\n      <td>http://images.amazon.com/images/P/0195153448.0...</td>\n      <td>http://images.amazon.com/images/P/0195153448.0...</td>\n    </tr>\n    <tr>\n      <th>1</th>\n      <td>2</td>\n      <td>0002005018</td>\n      <td>Clara Callan</td>\n      <td>Richard Bruce Wright</td>\n      <td>2001</td>\n      <td>HarperFlamingo Canada</td>\n      <td>7.7</td>\n      <td>http://images.amazon.com/images/P/0002005018.0...</td>\n      <td>http://images.amazon.com/images/P/0002005018.0...</td>\n      <td>http://images.amazon.com/images/P/0002005018.0...</td>\n    </tr>\n    <tr>\n      <th>2</th>\n      <td>3</td>\n      <td>0060973129</td>\n      <td>Decision in Normandy</td>\n      <td>Carlo D'Este</td>\n      <td>1991</td>\n      <td>HarperPerennial</td>\n      <td>7.5</td>\n      <td>http://images.amazon.com/images/P/0060973129.0...</td>\n      <td>http://images.amazon.com/images/P/0060973129.0...</td>\n      <td>http://images.amazon.com/images/P/0060973129.0...</td>\n    </tr>\n    <tr>\n      <th>3</th>\n      <td>4</td>\n      <td>0374157065</td>\n      <td>Flu: The Story of the Great Influenza Pandemic...</td>\n      <td>Gina Bari Kolata</td>\n      <td>1999</td>\n      <td>Farrar Straus Giroux</td>\n      <td>7.8</td>\n      <td>http://images.amazon.com/images/P/0374157065.0...</td>\n      <td>http://images.amazon.com/images/P/0374157065.0...</td>\n      <td>http://images.amazon.com/images/P/0374157065.0...</td>\n    </tr>\n    <tr>\n      <th>4</th>\n      <td>5</td>\n      <td>0393045218</td>\n      <td>The Mummies of Urumchi</td>\n      <td>E. J. W. Barber</td>\n      <td>1999</td>\n      <td>W. W. Norton &amp;amp; Company</td>\n      <td>0.0</td>\n      <td>http://images.amazon.com/images/P/0393045218.0...</td>\n      <td>http://images.amazon.com/images/P/0393045218.0...</td>\n      <td>http://images.amazon.com/images/P/0393045218.0...</td>\n    </tr>\n    <tr>\n      <th>...</th>\n      <td>...</td>\n      <td>...</td>\n      <td>...</td>\n      <td>...</td>\n      <td>...</td>\n      <td>...</td>\n      <td>...</td>\n      <td>...</td>\n      <td>...</td>\n      <td>...</td>\n    </tr>\n    <tr>\n      <th>271374</th>\n      <td>271375</td>\n      <td>0440400988</td>\n      <td>There's a Bat in Bunk Five</td>\n      <td>Paula Danziger</td>\n      <td>1988</td>\n      <td>Random House Childrens Pub (Mm)</td>\n      <td>7.0</td>\n      <td>http://images.amazon.com/images/P/0440400988.0...</td>\n      <td>http://images.amazon.com/images/P/0440400988.0...</td>\n      <td>http://images.amazon.com/images/P/0440400988.0...</td>\n    </tr>\n    <tr>\n      <th>271375</th>\n      <td>271376</td>\n      <td>0525447644</td>\n      <td>From One to One Hundred</td>\n      <td>Teri Sloat</td>\n      <td>1991</td>\n      <td>Dutton Books</td>\n      <td>4.0</td>\n      <td>http://images.amazon.com/images/P/0525447644.0...</td>\n      <td>http://images.amazon.com/images/P/0525447644.0...</td>\n      <td>http://images.amazon.com/images/P/0525447644.0...</td>\n    </tr>\n    <tr>\n      <th>271376</th>\n      <td>271377</td>\n      <td>006008667X</td>\n      <td>Lily Dale : The True Story of the Town that Ta...</td>\n      <td>Christine Wicker</td>\n      <td>2004</td>\n      <td>HarperSanFrancisco</td>\n      <td>0.0</td>\n      <td>http://images.amazon.com/images/P/006008667X.0...</td>\n      <td>http://images.amazon.com/images/P/006008667X.0...</td>\n      <td>http://images.amazon.com/images/P/006008667X.0...</td>\n    </tr>\n    <tr>\n      <th>271377</th>\n      <td>271378</td>\n      <td>0192126040</td>\n      <td>Republic (World's Classics)</td>\n      <td>Plato</td>\n      <td>1996</td>\n      <td>Oxford University Press</td>\n      <td>0.0</td>\n      <td>http://images.amazon.com/images/P/0192126040.0...</td>\n      <td>http://images.amazon.com/images/P/0192126040.0...</td>\n      <td>http://images.amazon.com/images/P/0192126040.0...</td>\n    </tr>\n    <tr>\n      <th>271378</th>\n      <td>271379</td>\n      <td>0767409752</td>\n      <td>A Guided Tour of Rene Descartes' Meditations o...</td>\n      <td>Christopher  Biffle</td>\n      <td>2000</td>\n      <td>McGraw-Hill Humanities/Social Sciences/Languages</td>\n      <td>0.0</td>\n      <td>http://images.amazon.com/images/P/0767409752.0...</td>\n      <td>http://images.amazon.com/images/P/0767409752.0...</td>\n      <td>http://images.amazon.com/images/P/0767409752.0...</td>\n    </tr>\n  </tbody>\n</table>\n<p>271379 rows × 10 columns</p>\n</div>"
     },
     "execution_count": 28,
     "metadata": {},
     "output_type": "execute_result"
    }
   ],
   "source": [
    "book.loc[book['book_id'].isin(average_rating.index), 'average_rating'] = average_rating.values\n",
    "book"
   ]
  },
  {
   "cell_type": "code",
   "execution_count": 29,
   "id": "06269729",
   "metadata": {},
   "outputs": [],
   "source": [
    "label = book_ratings['rating'] >= 6\n",
    "label = label.astype('int64')"
   ]
  },
  {
   "cell_type": "code",
   "execution_count": 30,
   "id": "dcb27fe7",
   "metadata": {},
   "outputs": [
    {
     "data": {
      "text/plain": "         user_id  book_id  label\n1         276726   225830      0\n3         276729   246855      0\n4         276729   246856      1\n8         276744     9296      1\n16        276747     4780      1\n...          ...      ...    ...\n1149771   276704      882      1\n1149773   276704    69545      0\n1149775   276704    69548      1\n1149777   276709    15980      1\n1149778   276721    56818      1\n\n[383852 rows x 3 columns]",
      "text/html": "<div>\n<style scoped>\n    .dataframe tbody tr th:only-of-type {\n        vertical-align: middle;\n    }\n\n    .dataframe tbody tr th {\n        vertical-align: top;\n    }\n\n    .dataframe thead th {\n        text-align: right;\n    }\n</style>\n<table border=\"1\" class=\"dataframe\">\n  <thead>\n    <tr style=\"text-align: right;\">\n      <th></th>\n      <th>user_id</th>\n      <th>book_id</th>\n      <th>label</th>\n    </tr>\n  </thead>\n  <tbody>\n    <tr>\n      <th>1</th>\n      <td>276726</td>\n      <td>225830</td>\n      <td>0</td>\n    </tr>\n    <tr>\n      <th>3</th>\n      <td>276729</td>\n      <td>246855</td>\n      <td>0</td>\n    </tr>\n    <tr>\n      <th>4</th>\n      <td>276729</td>\n      <td>246856</td>\n      <td>1</td>\n    </tr>\n    <tr>\n      <th>8</th>\n      <td>276744</td>\n      <td>9296</td>\n      <td>1</td>\n    </tr>\n    <tr>\n      <th>16</th>\n      <td>276747</td>\n      <td>4780</td>\n      <td>1</td>\n    </tr>\n    <tr>\n      <th>...</th>\n      <td>...</td>\n      <td>...</td>\n      <td>...</td>\n    </tr>\n    <tr>\n      <th>1149771</th>\n      <td>276704</td>\n      <td>882</td>\n      <td>1</td>\n    </tr>\n    <tr>\n      <th>1149773</th>\n      <td>276704</td>\n      <td>69545</td>\n      <td>0</td>\n    </tr>\n    <tr>\n      <th>1149775</th>\n      <td>276704</td>\n      <td>69548</td>\n      <td>1</td>\n    </tr>\n    <tr>\n      <th>1149777</th>\n      <td>276709</td>\n      <td>15980</td>\n      <td>1</td>\n    </tr>\n    <tr>\n      <th>1149778</th>\n      <td>276721</td>\n      <td>56818</td>\n      <td>1</td>\n    </tr>\n  </tbody>\n</table>\n<p>383852 rows × 3 columns</p>\n</div>"
     },
     "execution_count": 30,
     "metadata": {},
     "output_type": "execute_result"
    }
   ],
   "source": [
    "book_ratings.pop('rating')\n",
    "book_ratings.insert(loc=book_ratings.shape[1], column='label', value=label, allow_duplicates=False)\n",
    "book_ratings"
   ]
  },
  {
   "cell_type": "code",
   "execution_count": 31,
   "id": "0a576601",
   "metadata": {},
   "outputs": [
    {
     "data": {
      "text/plain": "1    321906\n0     61946\nName: label, dtype: int64"
     },
     "execution_count": 31,
     "metadata": {},
     "output_type": "execute_result"
    }
   ],
   "source": [
    "book_ratings['label'].value_counts()"
   ]
  },
  {
   "cell_type": "code",
   "execution_count": 32,
   "outputs": [
    {
     "data": {
      "text/plain": "278854"
     },
     "execution_count": 32,
     "metadata": {},
     "output_type": "execute_result"
    }
   ],
   "source": [
    "book_ratings['user_id'].max()"
   ],
   "metadata": {
    "collapsed": false
   }
  },
  {
   "cell_type": "code",
   "execution_count": 33,
   "outputs": [
    {
     "data": {
      "text/plain": "271376"
     },
     "execution_count": 33,
     "metadata": {},
     "output_type": "execute_result"
    }
   ],
   "source": [
    "book_ratings['book_id'].max()"
   ],
   "metadata": {
    "collapsed": false
   }
  },
  {
   "cell_type": "code",
   "execution_count": 34,
   "outputs": [
    {
     "data": {
      "text/plain": "         user_id  book_id\n4         276729   246856\n8         276744     9296\n16        276747     4780\n19        276747     1837\n20        276747     6277\n...          ...      ...\n1149761   276704    11887\n1149771   276704      882\n1149775   276704    69548\n1149777   276709    15980\n1149778   276721    56818\n\n[321906 rows x 2 columns]",
      "text/html": "<div>\n<style scoped>\n    .dataframe tbody tr th:only-of-type {\n        vertical-align: middle;\n    }\n\n    .dataframe tbody tr th {\n        vertical-align: top;\n    }\n\n    .dataframe thead th {\n        text-align: right;\n    }\n</style>\n<table border=\"1\" class=\"dataframe\">\n  <thead>\n    <tr style=\"text-align: right;\">\n      <th></th>\n      <th>user_id</th>\n      <th>book_id</th>\n    </tr>\n  </thead>\n  <tbody>\n    <tr>\n      <th>4</th>\n      <td>276729</td>\n      <td>246856</td>\n    </tr>\n    <tr>\n      <th>8</th>\n      <td>276744</td>\n      <td>9296</td>\n    </tr>\n    <tr>\n      <th>16</th>\n      <td>276747</td>\n      <td>4780</td>\n    </tr>\n    <tr>\n      <th>19</th>\n      <td>276747</td>\n      <td>1837</td>\n    </tr>\n    <tr>\n      <th>20</th>\n      <td>276747</td>\n      <td>6277</td>\n    </tr>\n    <tr>\n      <th>...</th>\n      <td>...</td>\n      <td>...</td>\n    </tr>\n    <tr>\n      <th>1149761</th>\n      <td>276704</td>\n      <td>11887</td>\n    </tr>\n    <tr>\n      <th>1149771</th>\n      <td>276704</td>\n      <td>882</td>\n    </tr>\n    <tr>\n      <th>1149775</th>\n      <td>276704</td>\n      <td>69548</td>\n    </tr>\n    <tr>\n      <th>1149777</th>\n      <td>276709</td>\n      <td>15980</td>\n    </tr>\n    <tr>\n      <th>1149778</th>\n      <td>276721</td>\n      <td>56818</td>\n    </tr>\n  </tbody>\n</table>\n<p>321906 rows × 2 columns</p>\n</div>"
     },
     "execution_count": 34,
     "metadata": {},
     "output_type": "execute_result"
    }
   ],
   "source": [
    "user_behavior = book_ratings.loc[book_ratings['label'] == 1, ['user_id', 'book_id']]\n",
    "user_behavior"
   ],
   "metadata": {
    "collapsed": false
   }
  },
  {
   "cell_type": "code",
   "execution_count": 35,
   "outputs": [
    {
     "data": {
      "text/plain": "61289"
     },
     "execution_count": 35,
     "metadata": {},
     "output_type": "execute_result"
    }
   ],
   "source": [
    "user_behavior['user_id'].nunique()"
   ],
   "metadata": {
    "collapsed": false
   }
  },
  {
   "cell_type": "code",
   "execution_count": 36,
   "outputs": [
    {
     "data": {
      "text/plain": "129020"
     },
     "execution_count": 36,
     "metadata": {},
     "output_type": "execute_result"
    }
   ],
   "source": [
    "user_behavior['book_id'].nunique()"
   ],
   "metadata": {
    "collapsed": false
   }
  },
  {
   "cell_type": "code",
   "execution_count": 37,
   "outputs": [],
   "source": [
    "user_behavior.to_csv('../data/user_behavior.csv', index=False)"
   ],
   "metadata": {
    "collapsed": false
   }
  },
  {
   "cell_type": "code",
   "execution_count": 38,
   "id": "1f0c6e67",
   "metadata": {},
   "outputs": [],
   "source": [
    "from sklearn.model_selection import train_test_split"
   ]
  },
  {
   "cell_type": "code",
   "execution_count": 39,
   "id": "cef266e8",
   "metadata": {},
   "outputs": [],
   "source": [
    "X = book_ratings.iloc[:, :-1]\n",
    "y = book_ratings.iloc[:, -1]\n",
    "\n",
    "X_train, X_test, y_train, y_test = train_test_split(X, y, test_size=0.3, random_state=42)"
   ]
  },
  {
   "cell_type": "code",
   "execution_count": 40,
   "id": "65384328",
   "metadata": {},
   "outputs": [],
   "source": [
    "train_data = pd.concat([X_train, y_train], axis=1)\n",
    "test_data = pd.concat([X_test, y_test], axis=1)"
   ]
  },
  {
   "cell_type": "code",
   "execution_count": 41,
   "id": "fe205db9",
   "metadata": {},
   "outputs": [
    {
     "data": {
      "text/plain": "1    225385\n0     43311\nName: label, dtype: int64"
     },
     "execution_count": 41,
     "metadata": {},
     "output_type": "execute_result"
    }
   ],
   "source": [
    "train_data['label'].value_counts()"
   ]
  },
  {
   "cell_type": "code",
   "execution_count": 42,
   "id": "a243e24b",
   "metadata": {},
   "outputs": [
    {
     "data": {
      "text/plain": "1    96521\n0    18635\nName: label, dtype: int64"
     },
     "execution_count": 42,
     "metadata": {},
     "output_type": "execute_result"
    }
   ],
   "source": [
    "test_data['label'].value_counts()"
   ]
  },
  {
   "cell_type": "code",
   "execution_count": 43,
   "id": "053407e5",
   "metadata": {},
   "outputs": [
    {
     "data": {
      "text/plain": "Index(['user_id', 'book_id'], dtype='object')"
     },
     "execution_count": 43,
     "metadata": {},
     "output_type": "execute_result"
    }
   ],
   "source": [
    "column_names = book_ratings.columns[:-1]\n",
    "column_names"
   ]
  },
  {
   "cell_type": "code",
   "execution_count": 44,
   "id": "c66555a5",
   "metadata": {},
   "outputs": [],
   "source": [
    "user_columns = ['user_id']\n",
    "item_columns = ['book_id']\n",
    "categorical_columns = ['user_id', 'book_id']\n",
    "numerical_columns = []\n",
    "vocab_size_map = {\n",
    "    'user_id': 278858,\n",
    "    'book_id': 271379\n",
    "}"
   ]
  },
  {
   "cell_type": "code",
   "execution_count": 45,
   "id": "916ae257",
   "metadata": {},
   "outputs": [],
   "source": [
    "feature_map = OrderedDict()\n",
    "feature_map['dataset_id'] = 'bookcrossing'\n",
    "feature_map['num_fields'] = len(column_names)"
   ]
  },
  {
   "cell_type": "code",
   "execution_count": 46,
   "id": "f4eeafb7",
   "metadata": {},
   "outputs": [],
   "source": [
    "feature_map['feature_specs'] = OrderedDict()\n",
    "for feature in column_names:\n",
    "    feature_map['feature_specs'][feature] = {\n",
    "        'source': 'user' if feature in user_columns else 'item',\n",
    "        'type': 'numerical' if feature in numerical_columns else 'categorical',\n",
    "        'vocab_size': 1 if feature in numerical_columns else vocab_size_map[feature],\n",
    "        'index': train_data.columns.get_loc(feature)\n",
    "    }"
   ]
  },
  {
   "cell_type": "code",
   "execution_count": 47,
   "id": "7171d648",
   "metadata": {},
   "outputs": [],
   "source": [
    "user.to_csv('../data/user.csv', index=False)\n",
    "book.to_csv('../data/book.csv', index=False)\n",
    "train_data.to_csv('../data/train.csv', index=False)\n",
    "test_data.to_csv('../data/test.csv', index=False)\n",
    "with open('../data/feature_map.json', 'w') as obj:\n",
    "    json.dump(feature_map, obj)"
   ]
  },
  {
   "cell_type": "code",
   "execution_count": 47,
   "outputs": [],
   "source": [],
   "metadata": {
    "collapsed": false
   }
  }
 ],
 "metadata": {
  "kernelspec": {
   "display_name": "base",
   "language": "python",
   "name": "python3"
  },
  "language_info": {
   "codemirror_mode": {
    "name": "ipython",
    "version": 3
   },
   "file_extension": ".py",
   "mimetype": "text/x-python",
   "name": "python",
   "nbconvert_exporter": "python",
   "pygments_lexer": "ipython3",
   "version": "3.9.13 (main, Aug 25 2022, 23:51:50) [MSC v.1916 64 bit (AMD64)]"
  },
  "vscode": {
   "interpreter": {
    "hash": "cbb5f3d532aec8608a2fec9573bdcbc5182a804a4738e1f49913b4f315f16aee"
   }
  }
 },
 "nbformat": 4,
 "nbformat_minor": 5
}
